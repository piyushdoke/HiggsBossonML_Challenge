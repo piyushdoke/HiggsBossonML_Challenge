{
 "cells": [
  {
   "cell_type": "code",
   "execution_count": 1,
   "metadata": {},
   "outputs": [],
   "source": [
    "from sklearn.decomposition import PCA\n",
    "from sklearn.preprocessing import StandardScaler\n",
    "from sklearn import metrics\n",
    "from sklearn.metrics import accuracy_score\n",
    "from sklearn.model_selection import train_test_split\n",
    "import pandas as pd\n",
    "from numpy import genfromtxt\n",
    "import numpy as np\n",
    "import csv\n",
    "from collections import Counter\n",
    "from matplotlib import pyplot as plt"
   ]
  },
  {
   "cell_type": "code",
   "execution_count": 2,
   "metadata": {},
   "outputs": [],
   "source": [
    "training_data = genfromtxt('training.csv',dtype = str, delimiter=',')\n",
    "testing_data = genfromtxt('testing.csv',dtype = str, delimiter=',')"
   ]
  },
  {
   "cell_type": "code",
   "execution_count": 3,
   "metadata": {},
   "outputs": [],
   "source": [
    "train_labels = training_data[1:,-1]\n",
    "train_labels = (train_labels == 's').astype(np.int32)\n",
    "train_weights = training_data[1:,31].astype(np.float32)\n",
    "train_data = training_data[1:,1:31]\n",
    "train_data = train_data.astype(np.float32)"
   ]
  },
  {
   "cell_type": "code",
   "execution_count": 4,
   "metadata": {},
   "outputs": [],
   "source": [
    "test_labels = testing_data[1:,-1]\n",
    "test_labels = (test_labels == 's').astype(np.int32)\n",
    "test_weights = testing_data[1:,31].astype(np.float32)\n",
    "test_data = testing_data[1:,1:31]\n",
    "test_data = test_data.astype(np.float32)"
   ]
  },
  {
   "cell_type": "code",
   "execution_count": 5,
   "metadata": {},
   "outputs": [],
   "source": [
    "def normalize_data(data):\n",
    "    scaler = StandardScaler()\n",
    "    scaler.fit(data)\n",
    "    data = scaler.transform(data)\n",
    "    return data\n",
    "\n",
    "def replace_missing_values(data):\n",
    "    a, b = np.where(data == -999)\n",
    "    new_r, new_c = np.where(data != -999)\n",
    "    mean_list = np.mean(data[new_r][new_c], axis = 0)\n",
    "    for i in range(len(a)):\n",
    "        data[a[i]][data[a[i]] == -999] = mean_list[b[i]]\n",
    "    x, y = np.where(data == -999)\n",
    "    print(x,y)\n",
    "    return data\n",
    "    \n",
    "def run_pca(data):\n",
    "    pca = PCA(n_components=25)\n",
    "    pca.fit(data)\n",
    "    data = pca.transform(data)\n",
    "    return data"
   ]
  },
  {
   "cell_type": "code",
   "execution_count": null,
   "metadata": {},
   "outputs": [],
   "source": [
    "train_data = replace_missing_values(train_data)\n",
    "test_data = replace_missing_values(test_data)\n",
    "\n",
    "train_data = normalize_data(train_data)\n",
    "test_data = normalize_data(test_data)\n",
    "\n",
    "# train_data = run_pca(train_data)\n",
    "# test_data = run_pca(test_data)\n",
    "\n",
    "print(train_data.shape)\n",
    "print(test_data.shape)"
   ]
  },
  {
   "cell_type": "code",
   "execution_count": 6,
   "metadata": {},
   "outputs": [],
   "source": [
    "import math\n",
    "def calc_ams(w,y,p):\n",
    "    w = np.asarray(w)\n",
    "    y = np.asarray(y)\n",
    "    p = np.asarray(p)\n",
    "    y_signal = w * (y == 1)\n",
    "    y_background = w * (y == 0)\n",
    "    s = np.sum(y_signal * (p == 1))\n",
    "    b = np.sum(y_background * (p == 1))\n",
    "    b_r=10.0\n",
    "    a = np.sqrt( 2 * ((s + b + b_r) * math.log ( 1.0 + (s / (b + b_r) ) ) - s ))\n",
    "    return a"
   ]
  },
  {
   "cell_type": "code",
   "execution_count": 7,
   "metadata": {},
   "outputs": [],
   "source": [
    "from sklearn.metrics import precision_score, recall_score\n",
    "def precision(labels, pred):\n",
    "    precision = precision_score(labels,pred)\n",
    "    return precision\n",
    "\n",
    "def recall(labels, pred):\n",
    "    recall = recall_score(labels,pred)\n",
    "    return recall"
   ]
  },
  {
   "cell_type": "code",
   "execution_count": 8,
   "metadata": {},
   "outputs": [],
   "source": [
    "from sklearn.linear_model import LogisticRegression\n",
    "def run_lr(train_data,train_labels,test_data,test_labels,weights):\n",
    "    clf = LogisticRegression(random_state=0, solver='lbfgs')\n",
    "    clf = clf.fit(train_data, train_labels)\n",
    "    preds = clf.predict_proba(test_data)[:,1]\n",
    "    preds[preds<0.6] = 0\n",
    "    preds[preds>=0.6] = 1\n",
    "    print(\"Logistic Regression:\")\n",
    "    print(\"Accuracy: \", clf.score(test_data,test_labels))\n",
    "    print(\"AMS score: \", calc_ams(weights.astype(np.float32),test_labels,preds))\n",
    "    print(\"Precision: \", precision(test_labels,preds))\n",
    "    print(\"Recall: \", recall(test_labels,preds))\n",
    "    return preds\n",
    "\n",
    "# run_lr(train_data,train_labels,test_data,test_labels,test_weights)"
   ]
  },
  {
   "cell_type": "code",
   "execution_count": 9,
   "metadata": {},
   "outputs": [],
   "source": [
    "from sklearn.naive_bayes import GaussianNB\n",
    "\n",
    "def run_gnb(train_data,train_labels,test_data,test_labels,weights):\n",
    "    clf = GaussianNB()\n",
    "    clf = clf.fit(train_data, train_labels)\n",
    "    preds = clf.predict_proba(test_data)[:,1]\n",
    "    preds[preds<0.6] = 0\n",
    "    preds[preds>=0.6] = 1\n",
    "    print(\"Gaussian Naive Bayes:\")\n",
    "    print(\"Accuracy: \", clf.score(test_data,test_labels))\n",
    "    print(\"AMS score: \", calc_ams(weights.astype(np.float32),test_labels,preds))\n",
    "    print(\"Precision: \", precision(test_labels,preds))\n",
    "    print(\"Recall: \", recall(test_labels,preds))\n",
    "    return preds\n",
    "\n",
    "# run_gnb(train_data,train_labels,test_data,test_labels,test_weights)"
   ]
  },
  {
   "cell_type": "code",
   "execution_count": 10,
   "metadata": {},
   "outputs": [],
   "source": [
    "from sklearn.ensemble import GradientBoostingClassifier\n",
    "\n",
    "def run_gradient_boosting(train_data,train_labels,test_data,test_labels,weights):\n",
    "    clf = GradientBoostingClassifier(n_estimators=100, learning_rate=1.0,max_depth=6, random_state=0)\n",
    "    clf = clf.fit(train_data, train_labels)\n",
    "    preds = clf.predict(test_data)\n",
    "    preds[preds<0.6] = 0\n",
    "    preds[preds>=0.6] = 1\n",
    "    print(\"Gradient Boosting Classifier:\")\n",
    "    print(\"Accuracy: \", clf.score(test_data,test_labels))\n",
    "    print(\"AMS score: \", calc_ams(weights.astype(np.float32),test_labels,preds))\n",
    "    print(\"Precision: \", precision(test_labels,preds))\n",
    "    print(\"Recall: \", recall(test_labels,preds))\n",
    "    return preds\n",
    "\n",
    "# run_gradient_boosting(train_data,train_labels,test_data,test_labels,test_weights)"
   ]
  },
  {
   "cell_type": "code",
   "execution_count": 11,
   "metadata": {},
   "outputs": [],
   "source": [
    "from sklearn.ensemble import GradientBoostingClassifier\n",
    "\n",
    "def run_gradient_boosting_depth(train_data,train_labels,test_data,test_labels,weights):\n",
    "    acc_list = []\n",
    "    depth = [1,2,3,4,5,6,7,8,9,10,11,12,13,14,15,16,17,18,19,20]\n",
    "    for i in range(1, 21):\n",
    "        clf = GradientBoostingClassifier(n_estimators=100, learning_rate=1.0,max_depth=6, random_state=0)\n",
    "        clf.fit(train_data, train_labels)\n",
    "        acc = clf.score(test_data,test_labels)\n",
    "        print(acc)\n",
    "        acc_list.append(acc)\n",
    "\n",
    "    plt.clf()\n",
    "    plt.plot(depth, acc_list)\n",
    "    plt.xlabel('depth')\n",
    "    plt.ylabel('accuracy')\n",
    "    plt.title('depth_vs_accuracy_GradientBossting')\n",
    "    plt.savefig('Gradient_Boosting_depth_vs_accuracy.png')\n",
    "\n",
    "# run_gradient_boosting_depth(train_data,train_labels,test_data,test_labels,test_weights)"
   ]
  },
  {
   "cell_type": "code",
   "execution_count": 12,
   "metadata": {},
   "outputs": [],
   "source": [
    "from sklearn.tree import DecisionTreeClassifier\n",
    "\n",
    "def run_decision_tree(train_data,train_labels,test_data,test_labels,weights):\n",
    "    clf = DecisionTreeClassifier(random_state=0)\n",
    "    clf = clf.fit(train_data, train_labels)\n",
    "    preds = clf.predict(test_data)\n",
    "    preds[preds<0.6] = 0\n",
    "    preds[preds>=0.6] = 1\n",
    "    print(\"Decision Tree Classifier:\")\n",
    "    print(\"Accuracy: \", clf.score(test_data,test_labels))\n",
    "    print(\"AMS score: \", calc_ams(weights.astype(np.float32),test_labels,preds))\n",
    "    print(\"Precision: \", precision(test_labels,preds))\n",
    "    print(\"Recall: \", recall(test_labels,preds))\n",
    "    return preds\n",
    "\n",
    "# run_decision_tree(train_data,train_labels,test_data,test_labels,test_weights)"
   ]
  },
  {
   "cell_type": "code",
   "execution_count": 13,
   "metadata": {},
   "outputs": [],
   "source": [
    "from sklearn.tree import DecisionTreeClassifier\n",
    "def run_decision_tree_depth(train_data,train_labels,test_data,test_labels,weights):\n",
    "    acc_list = []\n",
    "    depth = [1,2,3,4,5,6,7,8,9,10,11,12,13,14,15,16,17,18,19,20]\n",
    "    for i in range(1, 21):\n",
    "        clf = DecisionTreeClassifier(criterion = \"entropy\", random_state=0, max_depth = i, min_impurity_decrease = 0.000009)\n",
    "        clf.fit(train_data, train_labels)\n",
    "        acc = clf.score(test_data,test_labels)\n",
    "        print(acc)\n",
    "        acc_list.append(acc)\n",
    "\n",
    "    plt.clf()\n",
    "    plt.plot(depth, acc_list)\n",
    "    plt.xlabel('depth')\n",
    "    plt.ylabel('accuracy')\n",
    "    plt.title('depth_vs_accuracy_decisionTree')\n",
    "    plt.savefig('decision_depth_vs_accuracy.png')\n",
    "\n",
    "# run_decision_tree_depth(train_data,train_labels,test_data,test_labels,test_weights)"
   ]
  },
  {
   "cell_type": "code",
   "execution_count": 14,
   "metadata": {},
   "outputs": [],
   "source": [
    "from xgboost import XGBClassifier\n",
    "def run_xgboost(train_data,train_labels,test_data,test_labels,weights):\n",
    "    clf = XGBClassifier()\n",
    "    clf = clf.fit(train_data, train_labels)\n",
    "    preds = clf.predict(test_data)\n",
    "    preds[preds<0.6] = 0\n",
    "    preds[preds>=0.6] = 1\n",
    "    print(\"XG Boost Classifier:\")\n",
    "    print(\"Accuracy: \", clf.score(test_data,test_labels))\n",
    "    print(\"AMS score: \", calc_ams(weights.astype(np.float32),test_labels,preds))\n",
    "    print(\"Precision: \", precision(test_labels,preds))\n",
    "    print(\"Recall: \", recall(test_labels,preds))\n",
    "    \n",
    "    fpr_xgb, tpr_lr, _ = metrics.roc_curve(labels, preds_lr)\n",
    "\n",
    "    plt.plot(fpr_lr, tpr_lr)\n",
    "    plt.plot(fpr_gnb, tpr_gnb)\n",
    "    plt.plot(fpr_gb, tpr_gb)\n",
    "    plt.plot(fpr_xgb, tpr_xgb)\n",
    "    plt.plot(fpr_rf, tpr_rf)\n",
    "    plt.plot(fpr_dt, tpr_dt)\n",
    "    plt.xlabel('FPR')\n",
    "    plt.ylabel('TPR')\n",
    "    plt.title('ROC curve')\n",
    "    plt.show()\n",
    "    \n",
    "    return preds\n",
    "\n",
    "run_xgboost(train_data,train_labels,test_data,test_labels,test_weights)"
   ]
  },
  {
   "cell_type": "code",
   "execution_count": 15,
   "metadata": {},
   "outputs": [],
   "source": [
    "from sklearn.ensemble import RandomForestClassifier\n",
    "def run_random_forest(train_data,train_labels,test_data,test_labels,weights):\n",
    "    clf = RandomForestClassifier(n_estimators=100, max_depth=8, random_state=42)\n",
    "    clf = clf.fit(train_data, train_labels)\n",
    "    preds = clf.predict(test_data)\n",
    "    preds[preds<0.6] = 0\n",
    "    preds[preds>=0.6] = 1\n",
    "    print(\"Random Forest Classifier:\")\n",
    "    print(\"Accuracy: \", clf.score(test_data,test_labels))\n",
    "    print(\"AMS score: \", calc_ams(weights.astype(np.float32),test_labels,preds))\n",
    "    print(\"Precision: \", precision(test_labels,preds))\n",
    "    print(\"Recall: \", recall(test_labels,preds))\n",
    "    return preds\n",
    "\n",
    "# run_random_forest(train_data,train_labels,test_data,test_labels,test_weights)"
   ]
  },
  {
   "cell_type": "code",
   "execution_count": 16,
   "metadata": {},
   "outputs": [
    {
     "ename": "ImportError",
     "evalue": "No module named lightgbm",
     "output_type": "error",
     "traceback": [
      "\u001b[0;31m---------------------------------------------------------------------------\u001b[0m",
      "\u001b[0;31mImportError\u001b[0m                               Traceback (most recent call last)",
      "\u001b[0;32m<ipython-input-16-9076f0d73d11>\u001b[0m in \u001b[0;36m<module>\u001b[0;34m()\u001b[0m\n\u001b[0;32m----> 1\u001b[0;31m \u001b[0;32mimport\u001b[0m \u001b[0mlightgbm\u001b[0m \u001b[0;32mas\u001b[0m \u001b[0mlgb\u001b[0m\u001b[0;34m\u001b[0m\u001b[0m\n\u001b[0m\u001b[1;32m      2\u001b[0m \u001b[0;34m\u001b[0m\u001b[0m\n\u001b[1;32m      3\u001b[0m \u001b[0;32mdef\u001b[0m \u001b[0mrun_light_gbm\u001b[0m\u001b[0;34m(\u001b[0m\u001b[0mtrain_data\u001b[0m\u001b[0;34m,\u001b[0m\u001b[0mtrain_labels\u001b[0m\u001b[0;34m,\u001b[0m\u001b[0mtest_data\u001b[0m\u001b[0;34m,\u001b[0m\u001b[0mtest_labels\u001b[0m\u001b[0;34m,\u001b[0m\u001b[0mweights\u001b[0m\u001b[0;34m)\u001b[0m\u001b[0;34m:\u001b[0m\u001b[0;34m\u001b[0m\u001b[0m\n\u001b[1;32m      4\u001b[0m     lgb_new=lgb.LGBMClassifier( boosting_type='gbdt', num_leaves=30, max_depth=5, learning_rate=0.1, n_estimators=50, nthread=10, max_bin=225, objective=None, min_split_gain=0, \n\u001b[1;32m      5\u001b[0m     \u001b[0mmin_child_weight\u001b[0m\u001b[0;34m=\u001b[0m\u001b[0;36m5\u001b[0m\u001b[0;34m,\u001b[0m\u001b[0;34m\u001b[0m\u001b[0m\n",
      "\u001b[0;31mImportError\u001b[0m: No module named lightgbm"
     ]
    }
   ],
   "source": [
    "import lightgbm as lgb\n",
    "\n",
    "def run_light_gbm(train_data,train_labels,test_data,test_labels,weights):\n",
    "    lgb_new=lgb.LGBMClassifier( boosting_type='gbdt', num_leaves=30, max_depth=5, learning_rate=0.1, n_estimators=50, nthread=10, max_bin=225, objective=None, min_split_gain=0, \n",
    "    min_child_weight=5, \n",
    "    min_child_samples=10, subsample=1, subsample_freq=1, \n",
    "    colsample_bytree=1, \n",
    "    reg_alpha=1, reg_lambda=0, seed=410,silent=True);\n",
    "    clf=lgb_new.fit(train_data, train_labels);\n",
    "    preds = clf.predict(test_data)\n",
    "    preds[preds<0.6] = 0\n",
    "    preds[preds>=0.6] = 1\n",
    "    print(\"LightGBM Classifier:\")\n",
    "    print(\"Accuracy: \", clf.score(test_data,test_labels))\n",
    "    print(\"AMS score: \", calc_ams(weights.astype(np.float32),test_labels,preds))\n",
    "    print(\"Precision: \", precision(test_labels,preds))\n",
    "    print(\"Recall: \", recall(test_labels,preds))\n",
    "    return preds\n",
    "\n",
    "# run_light_gbm(train_data,train_labels,test_data,test_labels,test_weights)"
   ]
  },
  {
   "cell_type": "code",
   "execution_count": null,
   "metadata": {},
   "outputs": [],
   "source": [
    "from sklearn.ensemble import BaggingClassifier\n",
    "\n",
    "def run_bagging_dt(train_data,train_labels,test_data,test_labels,weights):\n",
    "    clfDT = DecisionTreeClassifier(random_state=0 , max_depth = 6)\n",
    "    bagDT=BaggingClassifier(base_estimator=clfDT,n_estimators=100, random_state = 200)\n",
    "    bagDT=bagDT.fit(train_data, train_labels)\n",
    "    preds = bagDT.predict(test_data)\n",
    "    preds[preds<0.5] = 0\n",
    "    preds[preds>=0.5] = 1\n",
    "    print(\"Bagging Classifier(Decison Tree):\")\n",
    "    print(\"Accuracy: \", bagDT.score(test_data,test_labels))\n",
    "    print(\"AMS score: \", calc_ams(weights.astype(np.float32),test_labels,preds))\n",
    "    print(\"Precision: \", precision(test_labels,preds))\n",
    "    print(\"Recall: \", recall(test_labels,preds))\n",
    "    return preds\n",
    "\n",
    "run_bagging_dt(train_data,train_labels,test_data,test_labels,test_weights)"
   ]
  },
  {
   "cell_type": "code",
   "execution_count": null,
   "metadata": {},
   "outputs": [],
   "source": [
    "from sklearn.ensemble import BaggingClassifier\n",
    "\n",
    "def run_bagging_lr(train_data,train_labels,test_data,test_labels,weights):\n",
    "    clfLR = LogisticRegression(random_state=0, solver='lbfgs')\n",
    "    bagLR=BaggingClassifier(base_estimator=clfLR,n_estimators=100, random_state = 200)\n",
    "    bagLR=bagLR.fit(train_data, train_labels)\n",
    "    preds = bagLR.predict(test_data)\n",
    "    preds[preds<0.5] = 0\n",
    "    preds[preds>=0.5] = 1\n",
    "    print(\"Bagging Classifier(Logistic Regression):\")\n",
    "    print(\"Accuracy: \", bagLR.score(test_data,test_labels))\n",
    "    print(\"AMS score: \", calc_ams(weights.astype(np.float32),test_labels,preds))\n",
    "    print(\"Precision: \", precision(test_labels,preds))\n",
    "    print(\"Recall: \", recall(test_labels,preds))\n",
    "    return preds\n",
    "\n",
    "run_bagging_lr(train_data,train_labels,test_data,test_labels,test_weights)"
   ]
  },
  {
   "cell_type": "code",
   "execution_count": null,
   "metadata": {},
   "outputs": [],
   "source": [
    "from sklearn.ensemble import BaggingClassifier\n",
    "\n",
    "def run_bagging_gnb(train_data,train_labels,test_data,test_labels,weights):\n",
    "    clfGNB = GaussianNB()\n",
    "    bagGNB=BaggingClassifier(base_estimator=clfGNB,n_estimators=100, random_state = 200)\n",
    "    bagGNB=bagGNB.fit(train_data, train_labels)\n",
    "    preds = bagGNB.predict(test_data)\n",
    "    preds[preds<0.5] = 0\n",
    "    preds[preds>=0.5] = 1\n",
    "    print(\"Bagging Classifier(Gaussian Naive Bayes):\")\n",
    "    print(\"Accuracy: \", bagGNB.score(test_data,test_labels))\n",
    "    print(\"AMS score: \", calc_ams(weights.astype(np.float32),test_labels,preds))\n",
    "    print(\"Precision: \", precision(test_labels,preds))\n",
    "    print(\"Recall: \", recall(test_labels,preds))\n",
    "    return preds\n",
    "\n",
    "run_bagging_gnb(train_data,train_labels,test_data,test_labels,test_weights)"
   ]
  },
  {
   "cell_type": "code",
   "execution_count": null,
   "metadata": {},
   "outputs": [],
   "source": [
    "# calculate Pearson's correlation\n",
    "from scipy.stats import pearsonr\n",
    "n = len(train_data[0])\n",
    "dict1={}\n",
    "for i in range(1,n-2):\n",
    "    l= []\n",
    "    for j in range(1,n-2):\n",
    "        corr, _ = pearsonr(train_data[:,i], train_data[:,j])\n",
    "        l.append(corr)\n",
    "    dict1[training_data[0][i]]=l\n",
    "\n",
    "dataframe = pd.DataFrame.from_dict(dict1, orient='index',columns=training_data[0][1:n-2])\n",
    "\n",
    "\n",
    "#check for relations where there is 0.95 correlation\n",
    "dict2={}\n",
    "for key in dict1:\n",
    "    n = len(dict1[key])\n",
    "    for i in range(0,n):\n",
    "        if dict1[key][i]>=0.95 and key!=training_data[0][i+1]:\n",
    "            if key>training_data[0][i+1]:\n",
    "                a = training_data[0][i+1]\n",
    "                b = key\n",
    "            else:\n",
    "                a = key\n",
    "                b = training_data[0][i+1]\n",
    "            dict2[(a,b)]=dict1[key][i]\n",
    "\n",
    "for key in dict2:\n",
    "    print (key,dict2[key])"
   ]
  },
  {
   "cell_type": "code",
   "execution_count": null,
   "metadata": {},
   "outputs": [],
   "source": [
    "dataCsv = dataframe.to_csv(index=True)\n",
    "f = open('correlation.csv','w+')\n",
    "f.write(dataCsv)"
   ]
  },
  {
   "cell_type": "code",
   "execution_count": null,
   "metadata": {
    "scrolled": true
   },
   "outputs": [],
   "source": [
    "# Plot of DER_mass_MC\n",
    "import random\n",
    "import numpy\n",
    "from matplotlib import pyplot\n",
    "\n",
    "filename='training.csv'\n",
    "data = genfromtxt(filename,dtype = float, delimiter=',');\n",
    "data1 = genfromtxt(filename,dtype = str, delimiter=',');\n",
    "Mass = data[1:,1]\n",
    "Y = data1[1:,32]\n",
    "Y = np.array(Y)\n",
    "\n",
    "Mass = np.array(Mass)\n",
    "Msignal = Mass[Y=='s'];\n",
    "Mbackground = Mass[Y=='b'];\n",
    "bins = numpy.linspace(9, 500, 50)\n",
    "pyplot.hist(Mbackground, bins, alpha=0.5, label='Background')\n",
    "pyplot.hist(Msignal, bins, alpha=0.5, label='Signal')\n",
    "pyplot.legend(loc='upper right')\n",
    "pyplot.xlabel('DER_mass_MMC')\n",
    "pyplot.ylabel('Number of events')\n",
    "pyplot.show()"
   ]
  },
  {
   "cell_type": "code",
   "execution_count": null,
   "metadata": {},
   "outputs": [],
   "source": [
    "from sklearn.svm import SVC\n",
    "clf = SVC(probability=True)\n",
    "clf.fit(train_data[:200000], train_labels[:200000])\n",
    "clf.score(train_data[200000:], train_labels[200000:])"
   ]
  },
  {
   "cell_type": "code",
   "execution_count": null,
   "metadata": {
    "scrolled": true
   },
   "outputs": [],
   "source": [
    "#experimenting on different parameters of svm\n",
    "from sklearn import svm\n",
    "X,Y = train_data,train_labels\n",
    "W = training_data[1:,31]\n",
    "W = W.astype(np.float64)\n",
    "\n",
    "X1 = X[:100000];\n",
    "W1 = W[:100000];\n",
    "Y1 = Y[:100000];\n",
    "Cs = [0.001, 0.01, 0.1, 1, 10]\n",
    "gammas = [0.001, 0.01, 0.1, 1]\n",
    "kernels = ['linear', 'rbf', 'poly']\n",
    "\n",
    "print(\"\\nExperimenting for different kernels\")\n",
    "for kernel in kernels:\n",
    "    svc= svm.SVC(kernel=kernel).fit(X1,Y1)\n",
    "#     plotSVC('kernel=' + str(kernel))\n",
    "    svmScore = svc.score(X[100000:200000],Y[100000:200000])\n",
    "    print(\"Kernel \", kernel,\" Svm score for test data:\",svmScore)\n",
    "    \n",
    "print(\"\\nExperimenting for different gammas\")\n",
    "for gamma in gammas:\n",
    "    svc = svm.SVC(kernel='rbf', gamma=gamma).fit(X, Y)\n",
    "    svmScore = svc.score(X[100000:200000],Y[100000:200000])\n",
    "#     plotSVC(‘gamma=’ + str(gamma))\n",
    "    print(\"Gamma:\", gamma,\" Svm score for test data:\",svmScore)\n",
    "    \n",
    "print(\"\\nExperimenting for different Regularization parameters\")\n",
    "for c in Cs:\n",
    "    svc = svm.SVC(kernel='rbf', C=c).fit(X, Y)\n",
    "    svmScore = svc.score(X[100000:200000],Y[100000:200000])\n",
    "#     plotSVC(‘C=’ + str(c))\n",
    "    print(\"C:\", c,\" Svm score for test data:\",svmScore)\n",
    "\n",
    "print(\"\\nExperimenting for different Degrees for polynomial kernel\")\n",
    "degrees = [0, 1, 2, 3, 4]\n",
    "for degree in degrees:\n",
    "    svc = svm.SVC(kernel='poly', degree=degree).fit(X, Y)\n",
    "    svmScore = svc.score(X[100000:200000],Y[100000:200000])\n",
    "    print(\"Degree \", degree,\" Svm score for test data:\",svmScore)\n",
    "    "
   ]
  },
  {
   "cell_type": "code",
   "execution_count": 17,
   "metadata": {},
   "outputs": [],
   "source": [
    "def process_data_jet_num(train_data,train_labels,num,weights):\n",
    "    if num == 0:\n",
    "        data = train_data[train_data[:,22] == 0]\n",
    "        data = np.delete(data,[4,5,6,12,22,23,24,25,26,27,28],1)\n",
    "        labels = train_labels[np.where(train_data[:,22] == 0)]\n",
    "        weights = weights[np.where(train_data[:,22] == 0)]\n",
    "    elif num == 1:\n",
    "        data = train_data[train_data[:,22] == 1]\n",
    "        data = np.delete(data,[4,5,6,12,26,27,28,22],1)\n",
    "        labels = train_labels[np.where(train_data[:,22] == 1)]\n",
    "        weights = weights[np.where(train_data[:,22] == 1)]\n",
    "    else:\n",
    "        data_2 = train_data[train_data[:,22] == 2]\n",
    "        data_2 = np.delete(data_2,[22],1)\n",
    "        labels_2 = train_labels[np.where(train_data[:,22] == 2)]\n",
    "        labels_2_weights = weights[np.where(train_data[:,22] == 2)]\n",
    "\n",
    "        data_3 = train_data[train_data[:,22] == 3]\n",
    "        data_3 = np.delete(data_3,[22],1)\n",
    "        labels_3 = train_labels[np.where(train_data[:,22] == 3)]\n",
    "        labels_3_weights = weights[np.where(train_data[:,22] == 3)]\n",
    "        \n",
    "        data = np.concatenate((data_2,data_3),axis=0)\n",
    "        labels = np.concatenate((labels_2,labels_3),axis=0)\n",
    "        weights = np.concatenate((labels_2_weights,labels_3_weights),axis=0)\n",
    "    return data, labels, weights"
   ]
  },
  {
   "cell_type": "code",
   "execution_count": 29,
   "metadata": {},
   "outputs": [],
   "source": [
    "def merge_jet_num(preds_0, preds_1, preds_2_3, test_0_labels, test_1_labels, test_2_3_labels, test_0_weights, test_1_weights, test_2_3_weights):\n",
    "    preds = np.concatenate((preds_0,preds_1,preds_2_3))\n",
    "    labels = np.concatenate((test_0_labels,test_1_labels,test_2_3_labels))\n",
    "    weights = np.concatenate((test_0_weights,test_1_weights,test_2_3_weights))\n",
    "    print(preds.shape)\n",
    "    print(labels.shape)\n",
    "    print(weights.shape)\n",
    "    print(\"jet-num-merged: \")\n",
    "    print(\"Accuracy: \", accuracy_score(labels,preds))\n",
    "    print(\"AMS score: \", calc_ams(weights.astype(np.float32),labels,preds))\n",
    "    print(\"Precision: \", precision(labels,preds))\n",
    "    print(\"Recall: \", recall(labels,preds))\n",
    "    return preds"
   ]
  },
  {
   "cell_type": "code",
   "execution_count": 19,
   "metadata": {},
   "outputs": [],
   "source": [
    "data_jet_num_0, data_jet_num_0_labels, data_jet_num_0_weights = process_data_jet_num(train_data,train_labels,0,train_weights)\n",
    "data_jet_num_0 = normalize_data(data_jet_num_0)\n",
    "\n",
    "data_jet_num_1, data_jet_num_1_labels, data_jet_num_1_weights = process_data_jet_num(train_data,train_labels,1,train_weights)\n",
    "data_jet_num_1 = normalize_data(data_jet_num_1)\n",
    "\n",
    "data_jet_num_2_3, data_jet_num_2_3_labels, data_jet_num_2_3_weights = process_data_jet_num(train_data,train_labels,2,train_weights)\n",
    "data_jet_num_2_3 = normalize_data(data_jet_num_2_3)\n",
    "\n",
    "data_jet_num_0_test, data_jet_num_0_test_labels, data_jet_num_0_test_weights = process_data_jet_num(test_data,test_labels,0,test_weights)\n",
    "data_jet_num_0_test = normalize_data(data_jet_num_0_test)\n",
    "\n",
    "data_jet_num_1_test, data_jet_num_1_test_labels, data_jet_num_1_test_weights = process_data_jet_num(test_data,test_labels,1,test_weights)\n",
    "data_jet_num_1_test = normalize_data(data_jet_num_1_test)\n",
    "\n",
    "data_jet_num_2_3_test, data_jet_num_2_3_test_labels, data_jet_num_2_3_test_weights = process_data_jet_num(test_data,test_labels,2,test_weights)\n",
    "data_jet_num_2_3_test = normalize_data(data_jet_num_2_3_test)"
   ]
  },
  {
   "cell_type": "code",
   "execution_count": null,
   "metadata": {},
   "outputs": [],
   "source": [
    "from sklearn.ensemble import VotingClassifier\n",
    "\n",
    "lr = LogisticRegression(random_state=0, solver='lbfgs')\n",
    "xgb = XGBClassifier()\n",
    "rf = RandomForestClassifier(n_estimators=100, max_depth=8, random_state=42)\n",
    "ensemble =VotingClassifier(estimators=[('lr',lr),('rf',rf),('xgb',xgb)],voting='hard')\n",
    "ensemble.fit(data_jet_num_0,data_jet_num_0_labels)\n",
    "preds_0 = ensemble.predict(data_jet_num_0_test)\n",
    "\n",
    "ensemble.fit(data_jet_num_1,data_jet_num_1_labels)\n",
    "preds_1 = ensemble.predict(data_jet_num_1_test)\n",
    "\n",
    "ensemble.fit(data_jet_num_2_3,data_jet_num_2_3_labels)\n",
    "preds_2_3 = ensemble.predict(data_jet_num_2_3_test)\n",
    "\n",
    "merge_jet_num(preds_0,preds_1,preds_2_3,data_jet_num_0_test_labels,data_jet_num_1_test_labels,data_jet_num_2_3_test_labels,data_jet_num_0_test_weights,data_jet_num_1_test_weights,data_jet_num_2_3_test_weights)"
   ]
  },
  {
   "cell_type": "code",
   "execution_count": 30,
   "metadata": {},
   "outputs": [
    {
     "name": "stdout",
     "output_type": "stream",
     "text": [
      "Logistic Regression:\n",
      "('Accuracy: ', 0.82562933501479363)\n",
      "('AMS score: ', 1.6537014145576556)\n",
      "('Precision: ', 0.75466151762298628)\n",
      "('Recall: ', 0.41919062560030734)\n",
      "Logistic Regression:\n",
      "('Accuracy: ', 0.71278151352994512)\n",
      "('AMS score: ', 0.65372817682042028)\n",
      "('Precision: ', 0.67041953938682708)\n",
      "('Recall: ', 0.2688659126674805)\n",
      "Logistic Regression:\n",
      "('Accuracy: ', 0.73471677572014171)\n",
      "('AMS score: ', 0.77862687011889753)\n",
      "('Precision: ', 0.78496806821957255)\n",
      "('Recall: ', 0.5276754141075749)\n",
      "(618237,)\n",
      "(618237,)\n",
      "(618237,)\n",
      "jet-num-merged: \n",
      "('Accuracy: ', 0.75218079797876869)\n",
      "('AMS score: ', 1.8836174595978341)\n",
      "('Precision: ', 0.74902062077575449)\n",
      "('Recall: ', 0.41218918201804261)\n"
     ]
    }
   ],
   "source": [
    "preds_0 = run_lr(data_jet_num_0,data_jet_num_0_labels,data_jet_num_0_test,data_jet_num_0_test_labels,data_jet_num_0_test_weights)\n",
    "preds_1 = run_lr(data_jet_num_1,data_jet_num_1_labels,data_jet_num_1_test,data_jet_num_1_test_labels,data_jet_num_1_test_weights)\n",
    "preds_2_3 = run_lr(data_jet_num_2_3,data_jet_num_2_3_labels,data_jet_num_2_3_test,data_jet_num_2_3_test_labels,data_jet_num_2_3_test_weights)\n",
    "preds_lr = merge_jet_num(preds_0,preds_1,preds_2_3,data_jet_num_0_test_labels,data_jet_num_1_test_labels,data_jet_num_2_3_test_labels,data_jet_num_0_test_weights,data_jet_num_1_test_weights,data_jet_num_2_3_test_weights)"
   ]
  },
  {
   "cell_type": "code",
   "execution_count": 31,
   "metadata": {},
   "outputs": [
    {
     "name": "stdout",
     "output_type": "stream",
     "text": [
      "Gaussian Naive Bayes:\n",
      "('Accuracy: ', 0.78615543806890753)\n",
      "('AMS score: ', 1.3467126831669531)\n",
      "('Precision: ', 0.57417399659989654)\n",
      "('Recall: ', 0.746110008324262)\n",
      "Gaussian Naive Bayes:\n",
      "('Accuracy: ', 0.72481511957609845)\n",
      "('AMS score: ', 0.87163555926717706)\n",
      "('Precision: ', 0.63216519851908592)\n",
      "('Recall: ', 0.58261879899401414)\n",
      "Gaussian Naive Bayes:\n",
      "('Accuracy: ', 0.71502605063488012)\n",
      "('AMS score: ', 0.88974163757599323)\n",
      "('Precision: ', 0.67473451937663775)\n",
      "('Recall: ', 0.72845710031639677)\n",
      "(618237,)\n",
      "(618237,)\n",
      "(618237,)\n",
      "jet-num-merged: \n",
      "('Accuracy: ', 0.75407165860341585)\n",
      "('AMS score: ', 1.8030650511042388)\n",
      "('Precision: ', 0.6278189300411523)\n",
      "('Recall: ', 0.6866992646501402)\n"
     ]
    }
   ],
   "source": [
    "preds_0 = run_gnb(data_jet_num_0,data_jet_num_0_labels,data_jet_num_0_test,data_jet_num_0_test_labels,data_jet_num_0_test_weights)\n",
    "preds_1 = run_gnb(data_jet_num_1,data_jet_num_1_labels,data_jet_num_1_test,data_jet_num_1_test_labels,data_jet_num_1_test_weights)\n",
    "preds_2_3 = run_gnb(data_jet_num_2_3,data_jet_num_2_3_labels,data_jet_num_2_3_test,data_jet_num_2_3_test_labels,data_jet_num_2_3_test_weights)\n",
    "preds_gnb = merge_jet_num(preds_0,preds_1,preds_2_3,data_jet_num_0_test_labels,data_jet_num_1_test_labels,data_jet_num_2_3_test_labels,data_jet_num_0_test_weights,data_jet_num_1_test_weights,data_jet_num_2_3_test_weights)"
   ]
  },
  {
   "cell_type": "code",
   "execution_count": 32,
   "metadata": {},
   "outputs": [
    {
     "name": "stdout",
     "output_type": "stream",
     "text": [
      "Gradient Boosting Classifier:\n",
      "('Accuracy: ', 0.80994244232106194)\n",
      "('AMS score: ', 1.2249141273099067)\n",
      "('Precision: ', 0.64155196745047005)\n",
      "('Recall: ', 0.56036690785682264)\n",
      "Gradient Boosting Classifier:\n",
      "('Accuracy: ', 0.79312260546438917)\n",
      "('AMS score: ', 1.0556420758908343)\n",
      "('Precision: ', 0.71313913342400648)\n",
      "('Recall: ', 0.70174870942597034)\n",
      "Gradient Boosting Classifier:\n",
      "('Accuracy: ', 0.82617172311896647)\n",
      "('AMS score: ', 1.1477614994618941)\n",
      "('Precision: ', 0.80899017248295224)\n",
      "('Recall: ', 0.80076927849122159)\n",
      "(618237,)\n",
      "(618237,)\n",
      "(618237,)\n",
      "jet-num-merged: \n",
      "('Accuracy: ', 0.80947759516172602)\n",
      "('AMS score: ', 1.9029364775307285)\n",
      "('Precision: ', 0.73172634487145083)\n",
      "('Recall: ', 0.69771529830945345)\n"
     ]
    }
   ],
   "source": [
    "preds_0 = run_gradient_boosting(data_jet_num_0,data_jet_num_0_labels,data_jet_num_0_test,data_jet_num_0_test_labels,data_jet_num_0_test_weights)\n",
    "preds_1 = run_gradient_boosting(data_jet_num_1,data_jet_num_1_labels,data_jet_num_1_test,data_jet_num_1_test_labels,data_jet_num_1_test_weights)\n",
    "preds_2_3 = run_gradient_boosting(data_jet_num_2_3,data_jet_num_2_3_labels,data_jet_num_2_3_test,data_jet_num_2_3_test_labels,data_jet_num_2_3_test_weights)\n",
    "preds_gb = merge_jet_num(preds_0,preds_1,preds_2_3,data_jet_num_0_test_labels,data_jet_num_1_test_labels,data_jet_num_2_3_test_labels,data_jet_num_0_test_weights,data_jet_num_1_test_weights,data_jet_num_2_3_test_weights)"
   ]
  },
  {
   "cell_type": "code",
   "execution_count": 33,
   "metadata": {},
   "outputs": [
    {
     "name": "stdout",
     "output_type": "stream",
     "text": [
      "Decision Tree Classifier:\n",
      "('Accuracy: ', 0.78227514510678886)\n",
      "('AMS score: ', 1.0314514084335835)\n",
      "('Precision: ', 0.56504249463146117)\n",
      "('Recall: ', 0.5981302426842543)\n",
      "Decision Tree Classifier:\n",
      "('Accuracy: ', 0.75647146997625769)\n",
      "('AMS score: ', 0.89464551737872977)\n",
      "('Precision: ', 0.6539693892147046)\n",
      "('Recall: ', 0.67240745370846999)\n",
      "Decision Tree Classifier:\n",
      "('Accuracy: ', 0.79396669517979934)\n",
      "('AMS score: ', 0.99335514165858751)\n",
      "('Precision: ', 0.77017190838177574)\n",
      "('Recall: ', 0.76934052980954148)\n",
      "(618237,)\n",
      "(618237,)\n",
      "(618237,)\n",
      "jet-num-merged: \n",
      "('Accuracy: ', 0.77771631267620667)\n",
      "('AMS score: ', 1.5947529594499446)\n",
      "('Precision: ', 0.67001625535687892)\n",
      "('Recall: ', 0.68743840497308772)\n"
     ]
    }
   ],
   "source": [
    "preds_0 = run_decision_tree(data_jet_num_0,data_jet_num_0_labels,data_jet_num_0_test,data_jet_num_0_test_labels,data_jet_num_0_test_weights)\n",
    "preds_1 = run_decision_tree(data_jet_num_1,data_jet_num_1_labels,data_jet_num_1_test,data_jet_num_1_test_labels,data_jet_num_1_test_weights)\n",
    "preds_2_3 = run_decision_tree(data_jet_num_2_3,data_jet_num_2_3_labels,data_jet_num_2_3_test,data_jet_num_2_3_test_labels,data_jet_num_2_3_test_weights)\n",
    "preds_dt = merge_jet_num(preds_0,preds_1,preds_2_3,data_jet_num_0_test_labels,data_jet_num_1_test_labels,data_jet_num_2_3_test_labels,data_jet_num_0_test_weights,data_jet_num_1_test_weights,data_jet_num_2_3_test_weights)"
   ]
  },
  {
   "cell_type": "code",
   "execution_count": 34,
   "metadata": {},
   "outputs": [
    {
     "name": "stdout",
     "output_type": "stream",
     "text": [
      "XG Boost Classifier:\n",
      "('Accuracy: ', 0.84879791757611034)\n",
      "('AMS score: ', 1.7455319855054277)\n",
      "('Precision: ', 0.74227541668277974)\n",
      "('Recall: ', 0.61453864378561829)\n",
      "XG Boost Classifier:\n",
      "('Accuracy: ', 0.81718457643907982)\n",
      "('AMS score: ', 1.2320488866949832)\n",
      "('Precision: ', 0.75827587282768083)\n",
      "('Recall: ', 0.71488241436618472)\n",
      "XG Boost Classifier:\n",
      "('Accuracy: ', 0.84435162247131101)\n",
      "('AMS score: ', 1.260885434901365)\n",
      "('Precision: ', 0.82942540259414754)\n",
      "('Recall: ', 0.82119238166139341)\n",
      "(618237,)\n",
      "(618237,)\n",
      "(618237,)\n",
      "jet-num-merged: \n",
      "('Accuracy: ', 0.83774668937640417)\n",
      "('AMS score: ', 2.4506192919171368)\n",
      "('Precision: ', 0.78306878306878303)\n",
      "('Recall: ', 0.72577894018649081)\n"
     ]
    }
   ],
   "source": [
    "preds_0 = run_xgboost(data_jet_num_0,data_jet_num_0_labels,data_jet_num_0_test,data_jet_num_0_test_labels,data_jet_num_0_test_weights)\n",
    "preds_1 = run_xgboost(data_jet_num_1,data_jet_num_1_labels,data_jet_num_1_test,data_jet_num_1_test_labels,data_jet_num_1_test_weights)\n",
    "preds_2_3 = run_xgboost(data_jet_num_2_3,data_jet_num_2_3_labels,data_jet_num_2_3_test,data_jet_num_2_3_test_labels,data_jet_num_2_3_test_weights)\n",
    "preds_xgb = merge_jet_num(preds_0,preds_1,preds_2_3,data_jet_num_0_test_labels,data_jet_num_1_test_labels,data_jet_num_2_3_test_labels,data_jet_num_0_test_weights,data_jet_num_1_test_weights,data_jet_num_2_3_test_weights)"
   ]
  },
  {
   "cell_type": "code",
   "execution_count": 35,
   "metadata": {},
   "outputs": [
    {
     "name": "stdout",
     "output_type": "stream",
     "text": [
      "Random Forest Classifier:\n",
      "('Accuracy: ', 0.84781167644823852)\n",
      "('AMS score: ', 1.7701724230057627)\n",
      "('Precision: ', 0.75606736007924713)\n",
      "('Recall: ', 0.58647627585323681)\n",
      "Random Forest Classifier:\n",
      "('Accuracy: ', 0.80697487932326695)\n",
      "('AMS score: ', 1.1989548114983413)\n",
      "('Precision: ', 0.74815263090839601)\n",
      "('Recall: ', 0.69092406571264686)\n",
      "Random Forest Classifier:\n",
      "('Accuracy: ', 0.83845273670528897)\n",
      "('AMS score: ', 1.3051331014106613)\n",
      "('Precision: ', 0.82460960639249836)\n",
      "('Recall: ', 0.81179973943793038)\n",
      "(618237,)\n",
      "(618237,)\n",
      "(618237,)\n",
      "jet-num-merged: \n",
      "('Accuracy: ', 0.83248333567871224)\n",
      "('AMS score: ', 2.4593127922297748)\n",
      "('Precision: ', 0.78199390317486139)\n",
      "('Recall: ', 0.70616803123341676)\n"
     ]
    }
   ],
   "source": [
    "preds_0 = run_random_forest(data_jet_num_0,data_jet_num_0_labels,data_jet_num_0_test,data_jet_num_0_test_labels,data_jet_num_0_test_weights)\n",
    "preds_1 = run_random_forest(data_jet_num_1,data_jet_num_1_labels,data_jet_num_1_test,data_jet_num_1_test_labels,data_jet_num_1_test_weights)\n",
    "preds_2_3 = run_random_forest(data_jet_num_2_3,data_jet_num_2_3_labels,data_jet_num_2_3_test,data_jet_num_2_3_test_labels,data_jet_num_2_3_test_weights)\n",
    "preds_rf = merge_jet_num(preds_0,preds_1,preds_2_3,data_jet_num_0_test_labels,data_jet_num_1_test_labels,data_jet_num_2_3_test_labels,data_jet_num_0_test_weights,data_jet_num_1_test_weights,data_jet_num_2_3_test_weights)"
   ]
  },
  {
   "cell_type": "code",
   "execution_count": 37,
   "metadata": {},
   "outputs": [
    {
     "data": {
      "image/png": "[encoded data removed]",
      "text/plain": [
       "<Figure size 432x288 with 1 Axes>"
      ]
     },
     "metadata": {},
     "output_type": "display_data"
    }
   ],
   "source": [
    "labels = np.concatenate((data_jet_num_0_test_labels,data_jet_num_1_test_labels,data_jet_num_2_3_test_labels))\n",
    "\n",
    "fpr_lr, tpr_lr, _ = metrics.roc_curve(labels, preds_lr)\n",
    "fpr_gnb, tpr_gnb, _ = metrics.roc_curve(labels, preds_gnb)\n",
    "fpr_gb, tpr_gb, _ = metrics.roc_curve(labels, preds_gnb)\n",
    "fpr_xgb, tpr_xgb, _ = metrics.roc_curve(labels, preds_xgb)\n",
    "fpr_rf, tpr_rf, _ = metrics.roc_curve(labels, preds_rf)\n",
    "fpr_dt, tpr_dt, _ = metrics.roc_curve(labels, preds_dt)\n",
    "\n",
    "plt.plot(fpr_lr, tpr_lr)\n",
    "plt.plot(fpr_gnb, tpr_gnb)\n",
    "plt.plot(fpr_gb, tpr_gb)\n",
    "plt.plot(fpr_xgb, tpr_xgb)\n",
    "plt.plot(fpr_rf, tpr_rf)\n",
    "plt.plot(fpr_dt, tpr_dt)\n",
    "plt.xlabel('FPR')\n",
    "plt.ylabel('TPR')\n",
    "plt.title('ROC curve')\n",
    "plt.show()"
   ]
  },
  {
   "cell_type": "code",
   "execution_count": null,
   "metadata": {},
   "outputs": [],
   "source": [
    "def extract_weighted_columns(data):\n",
    "    data = data[:,[1,2,4,6,8,9,10,15,17,18,21,25,27,28,29]]\n",
    "    return data"
   ]
  },
  {
   "cell_type": "code",
   "execution_count": null,
   "metadata": {},
   "outputs": [],
   "source": [
    "train_data_weighted = normalize_data(replace_missing_values(extract_weighted_columns(train_data)))\n",
    "test_data_weighted = normalize_data(replace_missing_values(extract_weighted_columns(test_data)))"
   ]
  },
  {
   "cell_type": "code",
   "execution_count": null,
   "metadata": {},
   "outputs": [],
   "source": [
    "run_lr(train_data_weighted,train_labels,test_data_weighted,test_labels,test_weights)"
   ]
  },
  {
   "cell_type": "code",
   "execution_count": null,
   "metadata": {},
   "outputs": [],
   "source": [
    "run_gnb(train_data_weighted,train_labels,test_data_weighted,test_labels,test_weights)"
   ]
  },
  {
   "cell_type": "code",
   "execution_count": null,
   "metadata": {},
   "outputs": [],
   "source": [
    "run_gradient_boosting(train_data_weighted,train_labels,test_data_weighted,test_labels,test_weights)"
   ]
  },
  {
   "cell_type": "code",
   "execution_count": null,
   "metadata": {},
   "outputs": [],
   "source": [
    "run_decision_tree(train_data_weighted,train_labels,test_data_weighted,test_labels,test_weights)"
   ]
  },
  {
   "cell_type": "code",
   "execution_count": null,
   "metadata": {},
   "outputs": [],
   "source": [
    "run_xgboost(train_data_weighted,train_labels,test_data_weighted,test_labels,test_weights)"
   ]
  },
  {
   "cell_type": "code",
   "execution_count": null,
   "metadata": {},
   "outputs": [],
   "source": [
    "run_random_forest(train_data_weighted,train_labels,test_data_weighted,test_labels,test_weights)"
   ]
  }
 ],
 "metadata": {
  "kernelspec": {
   "display_name": "Python 2",
   "language": "python",
   "name": "python2"
  },
  "language_info": {
   "codemirror_mode": {
    "name": "ipython",
    "version": 2
   },
   "file_extension": ".py",
   "mimetype": "text/x-python",
   "name": "python",
   "nbconvert_exporter": "python",
   "pygments_lexer": "ipython2",
   "version": "2.7.15"
  }
 },
 "nbformat": 4,
 "nbformat_minor": 2
}
