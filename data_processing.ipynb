{
 "cells": [
  {
   "cell_type": "code",
   "execution_count": 5,
   "metadata": {},
   "outputs": [],
   "source": [
    "from sklearn.decomposition import PCA\n",
    "from sklearn.preprocessing import StandardScaler\n",
    "from sklearn import metrics\n",
    "from sklearn.model_selection import train_test_split\n",
    "import pandas as pd\n",
    "from numpy import genfromtxt\n",
    "import numpy as np\n",
    "import csv\n",
    "from collections import Counter"
   ]
  },
  {
   "cell_type": "code",
   "execution_count": 6,
   "metadata": {},
   "outputs": [],
   "source": [
    "training_data = genfromtxt('training.csv',dtype = str, delimiter=',')\n",
    "testing_data = genfromtxt('testing.csv',dtype = str, delimiter=',')"
   ]
  },
  {
   "cell_type": "code",
   "execution_count": 7,
   "metadata": {},
   "outputs": [],
   "source": [
    "train_labels = training_data[1:,-1]\n",
    "train_labels = (train_labels == 'b').astype(np.int32)\n",
    "train_weights = training_data[1:,31].astype(np.float32)\n",
    "train_data = training_data[1:,1:31]\n",
    "train_data = train_data.astype(np.float32)"
   ]
  },
  {
   "cell_type": "code",
   "execution_count": 8,
   "metadata": {},
   "outputs": [],
   "source": [
    "test_labels = testing_data[1:,-1]\n",
    "test_labels = (test_labels == 'b').astype(np.int32)\n",
    "test_weights = testing_data[1:,31].astype(np.float32)\n",
    "test_data = testing_data[1:,1:31]\n",
    "test_data = test_data.astype(np.float32)"
   ]
  },
  {
   "cell_type": "code",
   "execution_count": 9,
   "metadata": {},
   "outputs": [],
   "source": [
    "def normalize_data(data):\n",
    "    scaler = StandardScaler()\n",
    "    scaler.fit(data)\n",
    "    data = scaler.transform(data)\n",
    "    return data\n",
    "\n",
    "def replace_missing_values(data):\n",
    "    a, b = np.where(data == -999)\n",
    "    new_r, new_c = np.where(data != -999)\n",
    "    mean_list = np.mean(data[new_r][new_c], axis = 0)\n",
    "    for i in range(len(a)):\n",
    "        data[a[i]][data[a[i]] == -999] = mean_list[b[i]]\n",
    "    x, y = np.where(data == -999)\n",
    "    print(x,y)\n",
    "    return data\n",
    "    \n",
    "def run_pca(data):\n",
    "    pca = PCA(n_components=15)\n",
    "    pca.fit(data)\n",
    "    data = pca.transform(data)\n",
    "    return data"
   ]
  },
  {
   "cell_type": "code",
   "execution_count": 10,
   "metadata": {},
   "outputs": [
    {
     "name": "stdout",
     "output_type": "stream",
     "text": [
      "(array([], dtype=int64), array([], dtype=int64))\n",
      "(array([], dtype=int64), array([], dtype=int64))\n",
      "(250000, 15)\n",
      "(618237, 15)\n"
     ]
    }
   ],
   "source": [
    "train_data = replace_missing_values(train_data)\n",
    "test_data = replace_missing_values(test_data)\n",
    "\n",
    "train_data = normalize_data(train_data)\n",
    "test_data = normalize_data(test_data)\n",
    "\n",
    "train_data = run_pca(train_data)\n",
    "test_data = run_pca(test_data)\n",
    "\n",
    "print(train_data.shape)\n",
    "print(test_data.shape)"
   ]
  },
  {
   "cell_type": "code",
   "execution_count": null,
   "metadata": {},
   "outputs": [],
   "source": [
    "print(Counter(train_data[:,22]))\n",
    "data_jet_num_0 = train_data[train_data[:,22] == 0]\n",
    "data_jet_num_0 = np.delete(data_jet_num_0,[4,5,6,12,22,23,24,25,26,27,28],1)\n",
    "data_jet_num_0_labels = train_labels[np.where(train_data[:,22] == 0)]\n",
    "print(Counter(data_jet_num_0_labels))\n",
    "data_jet_num_1 = train_data[train_data[:,22] == 1]\n",
    "data_jet_num_1 = np.delete(data_jet_num_1,[4,5,6,12,26,27,28,22],1)\n",
    "data_jet_num_1_labels = train_labels[np.where(train_data[:,22] == 1)]\n",
    "print(Counter(data_jet_num_1_labels))\n",
    "data_jet_num_2 = train_data[train_data[:,22] == 2]\n",
    "data_jet_num_2_labels = train_labels[np.where(train_data[:,22] == 2)]\n",
    "print(Counter(data_jet_num_2_labels))\n",
    "data_jet_num_3 = train_data[train_data[:,22] == 3]\n",
    "data_jet_num_3_labels = train_labels[np.where(train_data[:,22] == 3)]\n",
    "print(Counter(data_jet_num_3_labels))\n",
    "data_jet_num_2_3 = np.concatenate((data_jet_num_2,data_jet_num_3))\n",
    "data_jet_num_2_3 = np.delete(data_jet_num_2_3,[22],1)\n",
    "data_jet_num_2_3_labels = np.concatenate((data_jet_num_2_labels,data_jet_num_3_labels))\n",
    "print(Counter(data_jet_num_2_3_labels))\n",
    "print(len(data_jet_num_0),len(data_jet_num_1),len(data_jet_num_2_3))"
   ]
  },
  {
   "cell_type": "code",
   "execution_count": null,
   "metadata": {},
   "outputs": [],
   "source": [
    "scaler = StandardScaler()\n",
    "scaler.fit(data_jet_num_0)\n",
    "data_jet_num_0 = scaler.transform(data_jet_num_0)\n",
    "scaler = StandardScaler()\n",
    "scaler.fit(data_jet_num_1)\n",
    "data_jet_num_1 = scaler.transform(data_jet_num_1)\n",
    "scaler = StandardScaler()\n",
    "scaler.fit(data_jet_num_2_3)\n",
    "data_jet_num_2_3 = scaler.transform(data_jet_num_2_3)"
   ]
  },
  {
   "cell_type": "code",
   "execution_count": null,
   "metadata": {
    "scrolled": true
   },
   "outputs": [],
   "source": [
    "pca = PCA(0.99)\n",
    "data_jet_num_0 = pca.fit_transform(data_jet_num_0)\n",
    "print(pca.components_)\n",
    "pca = PCA(0.99)\n",
    "data_jet_num_1 = pca.fit_transform(data_jet_num_1)\n",
    "print(pca.components_)\n",
    "pca = PCA(0.99)\n",
    "data_jet_num_2_3 = pca.fit_transform(data_jet_num_2_3)\n",
    "print(pca.components_)"
   ]
  },
  {
   "cell_type": "code",
   "execution_count": 11,
   "metadata": {},
   "outputs": [],
   "source": [
    "import math\n",
    "def calc_ams(w,y,p):\n",
    "    w = np.asarray(w)\n",
    "    y = np.asarray(y)\n",
    "    p = np.asarray(p)\n",
    "    y_signal = w * (y == 0)\n",
    "    y_background = w * (y == 1)\n",
    "    s = np.sum(y_signal * (p == 1))\n",
    "    b = np.sum(y_background * (p == 1))\n",
    "    b_r=10.0\n",
    "    a = np.sqrt( 2 * ((s + b + b_r) * math.log ( 1.0 + (s / (b + b_r) ) ) - s ))\n",
    "    return a"
   ]
  },
  {
   "cell_type": "code",
   "execution_count": 12,
   "metadata": {},
   "outputs": [],
   "source": [
    "from sklearn.metrics import precision_score, recall_score\n",
    "def precision(labels, pred):\n",
    "    precision = precision_score(labels,pred)\n",
    "    return precision\n",
    "\n",
    "def recall(labels, pred):\n",
    "    recall = recall_score(labels,pred)\n",
    "    return recall"
   ]
  },
  {
   "cell_type": "code",
   "execution_count": 13,
   "metadata": {},
   "outputs": [],
   "source": [
    "from sklearn.linear_model import LogisticRegression\n",
    "def run_lr(train_data,train_labels,test_data,test_labels,weights):\n",
    "    clf = LogisticRegression(random_state=0, solver='lbfgs')\n",
    "    clf = clf.fit(train_data, train_labels)\n",
    "    preds = clf.predict(test_data)\n",
    "    preds[preds<0.6] = 0\n",
    "    preds[preds>=0.6] = 1\n",
    "    print(\"Logistic Regression:\")\n",
    "    print(\"Accuracy: \", clf.score(test_data,test_labels))\n",
    "    print(\"AMS score: \", calc_ams(weights.astype(np.float32),test_labels,preds))\n",
    "    print(\"Precision: \", precision(test_labels,preds))\n",
    "    print(\"Recall: \", recall(test_labels,preds))"
   ]
  },
  {
   "cell_type": "code",
   "execution_count": 14,
   "metadata": {},
   "outputs": [],
   "source": [
    "from sklearn.naive_bayes import GaussianNB\n",
    "\n",
    "def run_gnb(train_data,train_labels,test_data,test_labels,weights):\n",
    "    clf = GaussianNB()\n",
    "    clf = clf.fit(train_data, train_labels)\n",
    "    preds = clf.predict(test_data)\n",
    "    preds[preds<0.5] = 0\n",
    "    preds[preds>=0.5] = 1\n",
    "    print(\"Gaussian Naive Bayes:\")\n",
    "    print(\"Accuracy: \", clf.score(test_data,test_labels))\n",
    "    print(\"AMS score: \", calc_ams(weights.astype(np.float32),test_labels,preds))\n",
    "    print(\"Precision: \", precision(test_labels,preds))\n",
    "    print(\"Recall: \", recall(test_labels,preds))"
   ]
  },
  {
   "cell_type": "code",
   "execution_count": 15,
   "metadata": {},
   "outputs": [],
   "source": [
    "from sklearn.ensemble import GradientBoostingClassifier\n",
    "\n",
    "def run_gradient_boosting(train_data,train_labels,test_data,test_labels,weights):\n",
    "    clf = GradientBoostingClassifier(n_estimators=100, learning_rate=1.0,max_depth=1, random_state=0)\n",
    "    clf = clf.fit(train_data, train_labels)\n",
    "    preds = clf.predict(test_data)\n",
    "    preds[preds<0.5] = 0\n",
    "    preds[preds>=0.5] = 1\n",
    "    print(\"Gradient Boosting Classifier:\")\n",
    "    print(\"Accuracy: \", clf.score(test_data,test_labels))\n",
    "    print(\"AMS score: \", calc_ams(weights.astype(np.float32),test_labels,preds))\n",
    "    print(\"Precision: \", precision(test_labels,preds))\n",
    "    print(\"Recall: \", recall(test_labels,preds))"
   ]
  },
  {
   "cell_type": "code",
   "execution_count": 16,
   "metadata": {},
   "outputs": [],
   "source": [
    "from sklearn.tree import DecisionTreeClassifier\n",
    "\n",
    "def run_decision_tree(train_data,train_labels,test_data,test_labels,weights):\n",
    "    clf = DecisionTreeClassifier(random_state=0)\n",
    "    clf = clf.fit(train_data, train_labels)\n",
    "    preds = clf.predict(test_data)\n",
    "    preds[preds<0.5] = 0\n",
    "    preds[preds>=0.5] = 1\n",
    "    print(\"Decision Tree Classifier:\")\n",
    "    print(\"Accuracy: \", clf.score(test_data,test_labels))\n",
    "    print(\"AMS score: \", calc_ams(weights.astype(np.float32),test_labels,preds))\n",
    "    print(\"Precision: \", precision(test_labels,preds))\n",
    "    print(\"Recall: \", recall(test_labels,preds))"
   ]
  },
  {
   "cell_type": "code",
   "execution_count": 17,
   "metadata": {},
   "outputs": [],
   "source": [
    "from xgboost import XGBClassifier\n",
    "def run_xgboost(train_data,train_labels,test_data,test_labels,weights):\n",
    "    clf = XGBClassifier()\n",
    "    clf = clf.fit(train_data, train_labels)\n",
    "    preds = clf.predict(test_data)\n",
    "    preds[preds<0.5] = 0\n",
    "    preds[preds>=0.5] = 1\n",
    "    print(\"Decision Tree Classifier:\")\n",
    "    print(\"Accuracy: \", clf.score(test_data,test_labels))\n",
    "    print(\"AMS score: \", calc_ams(weights.astype(np.float32),test_labels,preds))\n",
    "    print(\"Precision: \", precision(test_labels,preds))\n",
    "    print(\"Recall: \", recall(test_labels,preds))"
   ]
  },
  {
   "cell_type": "code",
   "execution_count": 13,
   "metadata": {},
   "outputs": [],
   "source": [
    "import xgboost as xgb\n",
    "\n",
    "def run_xgb(train_data,train_labels,test_data,test_labels,weights):\n",
    "    label = train_labels\n",
    "    y = weights\n",
    "    weight = y * (float(len(test_labels)) / len(train_labels))\n",
    "\n",
    "    sum_wpos = sum( weight[i] for i in range(len(label)) if label[i] == 1.0)\n",
    "    sum_wneg = sum( weight[i] for i in range(len(label)) if label[i] == 0.0)\n",
    "    print ('weight statistics: wpos=%g, wneg=%g, ratio=%g' % ( sum_wpos, sum_wneg, sum_wneg/sum_wpos ))\n",
    "\n",
    "    xgmat = xgb.DMatrix( train_data, label=label, weight=weight )\n",
    "    print(type(xgmat))\n",
    "    # setup parameters for xgboost\n",
    "    param = {}\n",
    "    # use logistic regression loss, use raw prediction before logistic transformation\n",
    "    # since we only need the rank\n",
    "    param['objective'] = 'binary:logitraw'\n",
    "    # scale weight of positive examples\n",
    "    param['scale_pos_weight'] = sum_wneg/sum_wpos\n",
    "    param['eta'] = 0.1\n",
    "    param['max_depth'] = 6\n",
    "    param['eval_metric'] = 'auc'\n",
    "    param['silent'] = 1\n",
    "    param['nthread'] = 16\n",
    "\n",
    "    # you can directly throw param in, though we want to watch multiple metrics here\n",
    "    plst = list(param.items())+[('eval_metric', 'ams@0.15')]+[('eval_metric', 'error@0.3')]\n",
    "    watchlist = [ (xgmat,'train') ]\n",
    "\n",
    "    # boost 120 trees\n",
    "    num_round = 120\n",
    "    print ('loading data end, start to boost trees')\n",
    "\n",
    "    bst = xgb.train(plst, xgmat, num_round, watchlist)\n",
    "    preds = bst.predict(test_data)\n",
    "    print(preds)\n",
    "    # save out model\n",
    "    bst.save_model('higgs.model')"
   ]
  },
  {
   "cell_type": "code",
   "execution_count": null,
   "metadata": {},
   "outputs": [],
   "source": [
    "run_lr(train_data,train_labels,test_data,test_labels,test_weights)"
   ]
  },
  {
   "cell_type": "code",
   "execution_count": null,
   "metadata": {},
   "outputs": [],
   "source": [
    "run_gnb(train_data,train_labels,test_data,test_labels,test_weights)"
   ]
  },
  {
   "cell_type": "code",
   "execution_count": null,
   "metadata": {},
   "outputs": [],
   "source": [
    "run_gradient_boosting(train_data,train_labels,test_data,test_labels,test_weights)"
   ]
  },
  {
   "cell_type": "code",
   "execution_count": null,
   "metadata": {},
   "outputs": [],
   "source": [
    "run_decision_tree(train_data,train_labels,test_data,test_labels,test_weights)"
   ]
  },
  {
   "cell_type": "code",
   "execution_count": null,
   "metadata": {},
   "outputs": [],
   "source": [
    "run_xgboost(train_data,train_labels,test_data,test_labels,test_weights)"
   ]
  },
  {
   "cell_type": "code",
   "execution_count": null,
   "metadata": {},
   "outputs": [],
   "source": [
    "# calculate Pearson's correlation\n",
    "from scipy.stats import pearsonr\n",
    "n = len(train_data[0])\n",
    "dict1={}\n",
    "for i in range(1,n-2):\n",
    "    l= []\n",
    "    for j in range(1,n-2):\n",
    "        corr, _ = pearsonr(train_data[:,i], train_data[:,j])\n",
    "        l.append(corr)\n",
    "    dict1[training_data[0][i]]=l\n",
    "\n",
    "dataframe = pd.DataFrame.from_dict(dict1, orient='index',columns=training_data[0][1:n-2])\n",
    "\n",
    "\n",
    "#check for relations where there is 0.95 correlation\n",
    "dict2={}\n",
    "for key in dict1:\n",
    "    n = len(dict1[key])\n",
    "    for i in range(0,n):\n",
    "        if dict1[key][i]>=0.95 and key!=training_data[0][i+1]:\n",
    "            if key>training_data[0][i+1]:\n",
    "                a = training_data[0][i+1]\n",
    "                b = key\n",
    "            else:\n",
    "                a = key\n",
    "                b = training_data[0][i+1]\n",
    "            dict2[(a,b)]=dict1[key][i]\n",
    "\n",
    "for key in dict2:\n",
    "    print (key,dict2[key])"
   ]
  },
  {
   "cell_type": "code",
   "execution_count": null,
   "metadata": {},
   "outputs": [],
   "source": [
    "dataCsv = dataframe.to_csv(index=True)\n",
    "f = open('correlation.csv','w+')\n",
    "f.write(dataCsv)"
   ]
  },
  {
   "cell_type": "code",
   "execution_count": null,
   "metadata": {
    "scrolled": true
   },
   "outputs": [],
   "source": [
    "# Plot of DER_mass_MC\n",
    "import random\n",
    "import numpy\n",
    "from matplotlib import pyplot\n",
    "\n",
    "filename='training.csv'\n",
    "data = genfromtxt(filename,dtype = float, delimiter=',');\n",
    "data1 = genfromtxt(filename,dtype = str, delimiter=',');\n",
    "Mass = data[1:,1]\n",
    "Y = data1[1:,32]\n",
    "Y = np.array(Y)\n",
    "\n",
    "Mass = np.array(Mass)\n",
    "Msignal = Mass[Y=='s'];\n",
    "Mbackground = Mass[Y=='b'];\n",
    "bins = numpy.linspace(9, 500, 50)\n",
    "pyplot.hist(Mbackground, bins, alpha=0.5, label='Background')\n",
    "pyplot.hist(Msignal, bins, alpha=0.5, label='Signal')\n",
    "pyplot.legend(loc='upper right')\n",
    "pyplot.xlabel('DER_mass_MMC')\n",
    "pyplot.ylabel('Number of events')\n",
    "pyplot.show()"
   ]
  },
  {
   "cell_type": "code",
   "execution_count": null,
   "metadata": {},
   "outputs": [],
   "source": [
    "from sklearn.svm import SVC\n",
    "clf = SVC(probability=True)\n",
    "clf.fit(train_data[:200000], train_labels[:200000])\n",
    "clf.score(train_data[200000:], train_labels[200000:])"
   ]
  },
  {
   "cell_type": "code",
   "execution_count": null,
   "metadata": {
    "scrolled": true
   },
   "outputs": [],
   "source": [
    "#experimenting on different parameters of svm\n",
    "from sklearn import svm\n",
    "X,Y = train_data,train_labels\n",
    "W = training_data[1:,31]\n",
    "W = W.astype(np.float64)\n",
    "\n",
    "X1 = X[:100000];\n",
    "W1 = W[:100000];\n",
    "Y1 = Y[:100000];\n",
    "Cs = [0.001, 0.01, 0.1, 1, 10]\n",
    "gammas = [0.001, 0.01, 0.1, 1]\n",
    "kernels = ['linear', 'rbf', 'poly']\n",
    "\n",
    "print(\"\\nExperimenting for different kernels\")\n",
    "for kernel in kernels:\n",
    "    svc= svm.SVC(kernel=kernel).fit(X1,Y1)\n",
    "#     plotSVC('kernel=' + str(kernel))\n",
    "    svmScore = svc.score(X[100000:200000],Y[100000:200000])\n",
    "    print(\"Kernel \", kernel,\" Svm score for test data:\",svmScore)\n",
    "    \n",
    "print(\"\\nExperimenting for different gammas\")\n",
    "for gamma in gammas:\n",
    "    svc = svm.SVC(kernel='rbf', gamma=gamma).fit(X, Y)\n",
    "    svmScore = svc.score(X[100000:200000],Y[100000:200000])\n",
    "#     plotSVC(‘gamma=’ + str(gamma))\n",
    "    print(\"Gamma:\", gamma,\" Svm score for test data:\",svmScore)\n",
    "    \n",
    "print(\"\\nExperimenting for different Regularization parameters\")\n",
    "for c in Cs:\n",
    "    svc = svm.SVC(kernel='rbf', C=c).fit(X, Y)\n",
    "    svmScore = svc.score(X[100000:200000],Y[100000:200000])\n",
    "#     plotSVC(‘C=’ + str(c))\n",
    "    print(\"C:\", c,\" Svm score for test data:\",svmScore)\n",
    "\n",
    "print(\"\\nExperimenting for different Degrees for polynomial kernel\")\n",
    "degrees = [0, 1, 2, 3, 4]\n",
    "for degree in degrees:\n",
    "    svc = svm.SVC(kernel='poly', degree=degree).fit(X, Y)\n",
    "    svmScore = svc.score(X[100000:200000],Y[100000:200000])\n",
    "    print(\"Degree \", degree,\" Svm score for test data:\",svmScore)\n",
    "    "
   ]
  }
 ],
 "metadata": {
  "kernelspec": {
   "display_name": "Python 2",
   "language": "python",
   "name": "python2"
  },
  "language_info": {
   "codemirror_mode": {
    "name": "ipython",
    "version": 2
   },
   "file_extension": ".py",
   "mimetype": "text/x-python",
   "name": "python",
   "nbconvert_exporter": "python",
   "pygments_lexer": "ipython2",
   "version": "2.7.15"
  }
 },
 "nbformat": 4,
 "nbformat_minor": 2
}
