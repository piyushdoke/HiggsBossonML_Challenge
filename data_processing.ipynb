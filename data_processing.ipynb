{
 "cells": [
  {
   "cell_type": "code",
   "execution_count": 211,
   "metadata": {},
   "outputs": [],
   "source": [
    "from sklearn.decomposition import PCA\n",
    "from sklearn.preprocessing import StandardScaler\n",
    "from sklearn import metrics\n",
    "from sklearn.model_selection import train_test_split\n",
    "import pandas as pd\n",
    "from numpy import genfromtxt\n",
    "import numpy as np\n",
    "import csv\n",
    "from collections import Counter"
   ]
  },
  {
   "cell_type": "code",
   "execution_count": 212,
   "metadata": {},
   "outputs": [],
   "source": [
    "training_data = genfromtxt('training.csv',dtype = str, delimiter=',')\n",
    "testing_data = genfromtxt('testing.csv',dtype = str, delimiter=',')"
   ]
  },
  {
   "cell_type": "code",
   "execution_count": 213,
   "metadata": {},
   "outputs": [],
   "source": [
    "train_labels = training_data[1:,-1]\n",
    "train_labels = (train_labels == 's').astype(np.int32)\n",
    "train_weights = training_data[1:,31].astype(np.float32)\n",
    "train_data = training_data[1:,1:31]\n",
    "train_data = train_data.astype(np.float32)"
   ]
  },
  {
   "cell_type": "code",
   "execution_count": 214,
   "metadata": {},
   "outputs": [],
   "source": [
    "test_labels = testing_data[1:,-1]\n",
    "test_labels = (test_labels == 's').astype(np.int32)\n",
    "test_weights = testing_data[1:,31].astype(np.float32)\n",
    "test_data = testing_data[1:,1:31]\n",
    "test_data = test_data.astype(np.float32)"
   ]
  },
  {
   "cell_type": "code",
   "execution_count": 215,
   "metadata": {},
   "outputs": [],
   "source": [
    "def normalize_data(data):\n",
    "    scaler = StandardScaler()\n",
    "    scaler.fit(data)\n",
    "    data = scaler.transform(data)\n",
    "    return data\n",
    "\n",
    "def replace_missing_values(data):\n",
    "    a, b = np.where(data == -999)\n",
    "    new_r, new_c = np.where(data != -999)\n",
    "    mean_list = np.mean(data[new_r][new_c], axis = 0)\n",
    "    for i in range(len(a)):\n",
    "        data[a[i]][data[a[i]] == -999] = mean_list[b[i]]\n",
    "    x, y = np.where(data == -999)\n",
    "    print(x,y)\n",
    "    return data\n",
    "    \n",
    "def run_pca(data):\n",
    "    pca = PCA(n_components=20)\n",
    "    pca.fit(data)\n",
    "    data = pca.transform(data)\n",
    "    return data"
   ]
  },
  {
   "cell_type": "code",
   "execution_count": 216,
   "metadata": {},
   "outputs": [
    {
     "name": "stdout",
     "output_type": "stream",
     "text": [
      "(array([], dtype=int64), array([], dtype=int64))\n",
      "(array([], dtype=int64), array([], dtype=int64))\n",
      "(250000, 30)\n",
      "(618237, 30)\n"
     ]
    }
   ],
   "source": [
    "train_data = replace_missing_values(train_data)\n",
    "test_data = replace_missing_values(test_data)\n",
    "\n",
    "train_data = normalize_data(train_data)\n",
    "test_data = normalize_data(test_data)\n",
    "\n",
    "# train_data = run_pca(train_data)\n",
    "# test_data = run_pca(test_data)\n",
    "\n",
    "print(train_data.shape)\n",
    "print(test_data.shape)"
   ]
  },
  {
   "cell_type": "code",
   "execution_count": 217,
   "metadata": {},
   "outputs": [],
   "source": [
    "import math\n",
    "def calc_ams(w,y,p):\n",
    "    w = np.asarray(w)\n",
    "    y = np.asarray(y)\n",
    "    p = np.asarray(p)\n",
    "    y_signal = w * (y == 1)\n",
    "    y_background = w * (y == 0)\n",
    "    s = np.sum(y_signal * (p == 1))\n",
    "    b = np.sum(y_background * (p == 1))\n",
    "    b_r=10.0\n",
    "    a = np.sqrt( 2 * ((s + b + b_r) * math.log ( 1.0 + (s / (b + b_r) ) ) - s ))\n",
    "    return a"
   ]
  },
  {
   "cell_type": "code",
   "execution_count": 218,
   "metadata": {},
   "outputs": [],
   "source": [
    "from sklearn.metrics import precision_score, recall_score\n",
    "def precision(labels, pred):\n",
    "    precision = precision_score(labels,pred)\n",
    "    return precision\n",
    "\n",
    "def recall(labels, pred):\n",
    "    recall = recall_score(labels,pred)\n",
    "    return recall"
   ]
  },
  {
   "cell_type": "code",
   "execution_count": 219,
   "metadata": {},
   "outputs": [],
   "source": [
    "from sklearn.linear_model import LogisticRegression\n",
    "def run_lr(train_data,train_labels,test_data,test_labels,weights):\n",
    "    clf = LogisticRegression(random_state=0, solver='lbfgs')\n",
    "    clf = clf.fit(train_data, train_labels)\n",
    "    preds = clf.predict_proba(test_data)[:,1]\n",
    "    preds[preds<0.6] = 0\n",
    "    preds[preds>=0.6] = 1\n",
    "    print(Counter(preds))\n",
    "    print(\"Logistic Regression:\")\n",
    "    print(\"Accuracy: \", clf.score(test_data,test_labels))\n",
    "    print(\"AMS score: \", calc_ams(weights.astype(np.float32),test_labels,preds))\n",
    "    print(\"Precision: \", precision(test_labels,preds))\n",
    "    print(\"Recall: \", recall(test_labels,preds))"
   ]
  },
  {
   "cell_type": "code",
   "execution_count": 202,
   "metadata": {},
   "outputs": [],
   "source": [
    "from sklearn.naive_bayes import GaussianNB\n",
    "\n",
    "def run_gnb(train_data,train_labels,test_data,test_labels,weights):\n",
    "    clf = GaussianNB()\n",
    "    clf = clf.fit(train_data, train_labels)\n",
    "    preds = clf.predict_proba(test_data)[:,1]\n",
    "    preds[preds<0.6] = 0\n",
    "    preds[preds>=0.6] = 1\n",
    "    print(\"Gaussian Naive Bayes:\")\n",
    "    print(\"Accuracy: \", clf.score(test_data,test_labels))\n",
    "    print(\"AMS score: \", calc_ams(weights.astype(np.float32),test_labels,preds))\n",
    "    print(\"Precision: \", precision(test_labels,preds))\n",
    "    print(\"Recall: \", recall(test_labels,preds))"
   ]
  },
  {
   "cell_type": "code",
   "execution_count": 203,
   "metadata": {},
   "outputs": [],
   "source": [
    "from sklearn.ensemble import GradientBoostingClassifier\n",
    "\n",
    "def run_gradient_boosting(train_data,train_labels,test_data,test_labels,weights):\n",
    "    clf = GradientBoostingClassifier(n_estimators=100, learning_rate=1.0,max_depth=1, random_state=0)\n",
    "    clf = clf.fit(train_data, train_labels)\n",
    "    preds = clf.predict(test_data)\n",
    "    preds[preds<0.6] = 0\n",
    "    preds[preds>=0.6] = 1\n",
    "    print(\"Gradient Boosting Classifier:\")\n",
    "    print(\"Accuracy: \", clf.score(test_data,test_labels))\n",
    "    print(\"AMS score: \", calc_ams(weights.astype(np.float32),test_labels,preds))\n",
    "    print(\"Precision: \", precision(test_labels,preds))\n",
    "    print(\"Recall: \", recall(test_labels,preds))"
   ]
  },
  {
   "cell_type": "code",
   "execution_count": 204,
   "metadata": {},
   "outputs": [],
   "source": [
    "from sklearn.tree import DecisionTreeClassifier\n",
    "\n",
    "def run_decision_tree(train_data,train_labels,test_data,test_labels,weights):\n",
    "    clf = DecisionTreeClassifier(random_state=0)\n",
    "    clf = clf.fit(train_data, train_labels)\n",
    "    preds = clf.predict(test_data)\n",
    "    preds[preds<0.6] = 0\n",
    "    preds[preds>=0.6] = 1\n",
    "    print(\"Decision Tree Classifier:\")\n",
    "    print(\"Accuracy: \", clf.score(test_data,test_labels))\n",
    "    print(\"AMS score: \", calc_ams(weights.astype(np.float32),test_labels,preds))\n",
    "    print(\"Precision: \", precision(test_labels,preds))\n",
    "    print(\"Recall: \", recall(test_labels,preds))"
   ]
  },
  {
   "cell_type": "code",
   "execution_count": 205,
   "metadata": {},
   "outputs": [],
   "source": [
    "from xgboost import XGBClassifier\n",
    "def run_xgboost(train_data,train_labels,test_data,test_labels,weights):\n",
    "    clf = XGBClassifier()\n",
    "    clf = clf.fit(train_data, train_labels)\n",
    "    preds = clf.predict(test_data)\n",
    "    preds[preds<0.6] = 0\n",
    "    preds[preds>=0.6] = 1\n",
    "    print(\"XG Boost Classifier:\")\n",
    "    print(\"Accuracy: \", clf.score(test_data,test_labels))\n",
    "    print(\"AMS score: \", calc_ams(weights.astype(np.float32),test_labels,preds))\n",
    "    print(\"Precision: \", precision(test_labels,preds))\n",
    "    print(\"Recall: \", recall(test_labels,preds))"
   ]
  },
  {
   "cell_type": "code",
   "execution_count": 206,
   "metadata": {},
   "outputs": [
    {
     "name": "stdout",
     "output_type": "stream",
     "text": [
      "Counter({0.0: 483512, 1.0: 134725})\n",
      "Logistic Regression:\n",
      "('Accuracy: ', 0.62598647444264899)\n",
      "('AMS score: ', 0.47237603690413499)\n",
      "('Precision: ', 0.45325663388383747)\n",
      "('Recall: ', 0.28933079372299297)\n"
     ]
    }
   ],
   "source": [
    "run_lr(train_data,train_labels,test_data,test_labels,test_weights)"
   ]
  },
  {
   "cell_type": "code",
   "execution_count": 207,
   "metadata": {},
   "outputs": [
    {
     "name": "stdout",
     "output_type": "stream",
     "text": [
      "Gaussian Naive Bayes:\n",
      "('Accuracy: ', 0.61319364580249969)\n",
      "('AMS score: ', 0.3668691651107403)\n",
      "('Precision: ', 0.42704659080452717)\n",
      "('Recall: ', 0.26387309529224473)\n"
     ]
    }
   ],
   "source": [
    "run_gnb(train_data,train_labels,test_data,test_labels,test_weights)"
   ]
  },
  {
   "cell_type": "code",
   "execution_count": 208,
   "metadata": {},
   "outputs": [
    {
     "name": "stdout",
     "output_type": "stream",
     "text": [
      "Gradient Boosting Classifier:\n",
      "('Accuracy: ', 0.58211171443960807)\n",
      "('AMS score: ', 0.26798193847807333)\n",
      "('Precision: ', 0.36263838388531999)\n",
      "('Recall: ', 0.29581722386475628)\n"
     ]
    }
   ],
   "source": [
    "run_gradient_boosting(train_data,train_labels,test_data,test_labels,test_weights)"
   ]
  },
  {
   "cell_type": "code",
   "execution_count": 196,
   "metadata": {},
   "outputs": [
    {
     "name": "stdout",
     "output_type": "stream",
     "text": [
      "Decision Tree Classifier:\n",
      "('Accuracy: ', 0.5773400815544848)\n",
      "('AMS score: ', 0.60260811394873792)\n",
      "('Precision: ', 0.3884607188521097)\n",
      "('Recall: ', 0.41458191190963534)\n"
     ]
    }
   ],
   "source": [
    "run_decision_tree(train_data,train_labels,test_data,test_labels,test_weights)"
   ]
  },
  {
   "cell_type": "code",
   "execution_count": 197,
   "metadata": {},
   "outputs": [
    {
     "name": "stdout",
     "output_type": "stream",
     "text": [
      "XG Boost Classifier:\n",
      "('Accuracy: ', 0.62768970475723707)\n",
      "('AMS score: ', 0.31682920705954221)\n",
      "('Precision: ', 0.43575700557758218)\n",
      "('Recall: ', 0.30724073231748922)\n"
     ]
    }
   ],
   "source": [
    "run_xgboost(train_data,train_labels,test_data,test_labels,test_weights)"
   ]
  },
  {
   "cell_type": "code",
   "execution_count": null,
   "metadata": {},
   "outputs": [],
   "source": [
    "# calculate Pearson's correlation\n",
    "from scipy.stats import pearsonr\n",
    "n = len(train_data[0])\n",
    "dict1={}\n",
    "for i in range(1,n-2):\n",
    "    l= []\n",
    "    for j in range(1,n-2):\n",
    "        corr, _ = pearsonr(train_data[:,i], train_data[:,j])\n",
    "        l.append(corr)\n",
    "    dict1[training_data[0][i]]=l\n",
    "\n",
    "dataframe = pd.DataFrame.from_dict(dict1, orient='index',columns=training_data[0][1:n-2])\n",
    "\n",
    "\n",
    "#check for relations where there is 0.95 correlation\n",
    "dict2={}\n",
    "for key in dict1:\n",
    "    n = len(dict1[key])\n",
    "    for i in range(0,n):\n",
    "        if dict1[key][i]>=0.95 and key!=training_data[0][i+1]:\n",
    "            if key>training_data[0][i+1]:\n",
    "                a = training_data[0][i+1]\n",
    "                b = key\n",
    "            else:\n",
    "                a = key\n",
    "                b = training_data[0][i+1]\n",
    "            dict2[(a,b)]=dict1[key][i]\n",
    "\n",
    "for key in dict2:\n",
    "    print (key,dict2[key])"
   ]
  },
  {
   "cell_type": "code",
   "execution_count": null,
   "metadata": {},
   "outputs": [],
   "source": [
    "dataCsv = dataframe.to_csv(index=True)\n",
    "f = open('correlation.csv','w+')\n",
    "f.write(dataCsv)"
   ]
  },
  {
   "cell_type": "code",
   "execution_count": null,
   "metadata": {
    "scrolled": true
   },
   "outputs": [],
   "source": [
    "# Plot of DER_mass_MC\n",
    "import random\n",
    "import numpy\n",
    "from matplotlib import pyplot\n",
    "\n",
    "filename='training.csv'\n",
    "data = genfromtxt(filename,dtype = float, delimiter=',');\n",
    "data1 = genfromtxt(filename,dtype = str, delimiter=',');\n",
    "Mass = data[1:,1]\n",
    "Y = data1[1:,32]\n",
    "Y = np.array(Y)\n",
    "\n",
    "Mass = np.array(Mass)\n",
    "Msignal = Mass[Y=='s'];\n",
    "Mbackground = Mass[Y=='b'];\n",
    "bins = numpy.linspace(9, 500, 50)\n",
    "pyplot.hist(Mbackground, bins, alpha=0.5, label='Background')\n",
    "pyplot.hist(Msignal, bins, alpha=0.5, label='Signal')\n",
    "pyplot.legend(loc='upper right')\n",
    "pyplot.xlabel('DER_mass_MMC')\n",
    "pyplot.ylabel('Number of events')\n",
    "pyplot.show()"
   ]
  },
  {
   "cell_type": "code",
   "execution_count": null,
   "metadata": {},
   "outputs": [],
   "source": [
    "from sklearn.svm import SVC\n",
    "clf = SVC(probability=True)\n",
    "clf.fit(train_data[:200000], train_labels[:200000])\n",
    "clf.score(train_data[200000:], train_labels[200000:])"
   ]
  },
  {
   "cell_type": "code",
   "execution_count": null,
   "metadata": {
    "scrolled": true
   },
   "outputs": [],
   "source": [
    "#experimenting on different parameters of svm\n",
    "from sklearn import svm\n",
    "X,Y = train_data,train_labels\n",
    "W = training_data[1:,31]\n",
    "W = W.astype(np.float64)\n",
    "\n",
    "X1 = X[:100000];\n",
    "W1 = W[:100000];\n",
    "Y1 = Y[:100000];\n",
    "Cs = [0.001, 0.01, 0.1, 1, 10]\n",
    "gammas = [0.001, 0.01, 0.1, 1]\n",
    "kernels = ['linear', 'rbf', 'poly']\n",
    "\n",
    "print(\"\\nExperimenting for different kernels\")\n",
    "for kernel in kernels:\n",
    "    svc= svm.SVC(kernel=kernel).fit(X1,Y1)\n",
    "#     plotSVC('kernel=' + str(kernel))\n",
    "    svmScore = svc.score(X[100000:200000],Y[100000:200000])\n",
    "    print(\"Kernel \", kernel,\" Svm score for test data:\",svmScore)\n",
    "    \n",
    "print(\"\\nExperimenting for different gammas\")\n",
    "for gamma in gammas:\n",
    "    svc = svm.SVC(kernel='rbf', gamma=gamma).fit(X, Y)\n",
    "    svmScore = svc.score(X[100000:200000],Y[100000:200000])\n",
    "#     plotSVC(‘gamma=’ + str(gamma))\n",
    "    print(\"Gamma:\", gamma,\" Svm score for test data:\",svmScore)\n",
    "    \n",
    "print(\"\\nExperimenting for different Regularization parameters\")\n",
    "for c in Cs:\n",
    "    svc = svm.SVC(kernel='rbf', C=c).fit(X, Y)\n",
    "    svmScore = svc.score(X[100000:200000],Y[100000:200000])\n",
    "#     plotSVC(‘C=’ + str(c))\n",
    "    print(\"C:\", c,\" Svm score for test data:\",svmScore)\n",
    "\n",
    "print(\"\\nExperimenting for different Degrees for polynomial kernel\")\n",
    "degrees = [0, 1, 2, 3, 4]\n",
    "for degree in degrees:\n",
    "    svc = svm.SVC(kernel='poly', degree=degree).fit(X, Y)\n",
    "    svmScore = svc.score(X[100000:200000],Y[100000:200000])\n",
    "    print(\"Degree \", degree,\" Svm score for test data:\",svmScore)\n",
    "    "
   ]
  },
  {
   "cell_type": "code",
   "execution_count": 220,
   "metadata": {},
   "outputs": [],
   "source": [
    "def process_data_jet_num(train_data,train_labels,num,weights):\n",
    "    if num == 0:\n",
    "        data = train_data[train_data[:,22] == 0]\n",
    "        data = np.delete(data,[4,5,6,12,22,23,24,25,26,27,28],1)\n",
    "        labels = train_labels[np.where(train_data[:,22] == 0)]\n",
    "        weights = weights[np.where(train_data[:,22] == 0)]\n",
    "    elif num == 1:\n",
    "        data = train_data[train_data[:,22] == 1]\n",
    "        data = np.delete(data,[4,5,6,12,26,27,28,22],1)\n",
    "        labels = train_labels[np.where(train_data[:,22] == 1)]\n",
    "        weights = weights[np.where(train_data[:,22] == 1)]\n",
    "    else:\n",
    "        data_2 = train_data[train_data[:,22] == 2]\n",
    "        data_2 = np.delete(data_2,[22],1)\n",
    "        labels_2 = train_labels[np.where(train_data[:,22] == 2)]\n",
    "        labels_2_weights = weights[np.where(train_data[:,22] == 2)]\n",
    "        \n",
    "        data_3 = train_data[train_data[22] == 3]\n",
    "        data_3 = np.delete(data_3,[22],1)\n",
    "        labels_3 = train_labels[np.where(train_data[:,22] == 3)]\n",
    "        labels_3_weights = weights[np.where(train_data[:,22] == 3)]\n",
    "        \n",
    "        data = np.concatenate((data_2,data_3))\n",
    "        labels = np.concatenate((labels_2,labels_3))\n",
    "        weights = np.concatenate((labels_2_weights,labels_3_weights))\n",
    "    return data, labels, weights"
   ]
  },
  {
   "cell_type": "code",
   "execution_count": 221,
   "metadata": {},
   "outputs": [
    {
     "ename": "ValueError",
     "evalue": "Found array with 0 sample(s) (shape=(0, 19)) while a minimum of 1 is required by StandardScaler.",
     "output_type": "error",
     "traceback": [
      "\u001b[0;31m---------------------------------------------------------------------------\u001b[0m",
      "\u001b[0;31mValueError\u001b[0m                                Traceback (most recent call last)",
      "\u001b[0;32m<ipython-input-221-e856ce266bc4>\u001b[0m in \u001b[0;36m<module>\u001b[0;34m()\u001b[0m\n\u001b[1;32m      1\u001b[0m \u001b[0mdata_jet_num_0\u001b[0m\u001b[0;34m,\u001b[0m \u001b[0mdata_jet_num_0_labels\u001b[0m\u001b[0;34m,\u001b[0m \u001b[0mdata_jet_num_0_weights\u001b[0m \u001b[0;34m=\u001b[0m \u001b[0mprocess_data_jet_num\u001b[0m\u001b[0;34m(\u001b[0m\u001b[0mtrain_data\u001b[0m\u001b[0;34m,\u001b[0m\u001b[0mtrain_labels\u001b[0m\u001b[0;34m,\u001b[0m\u001b[0;36m0\u001b[0m\u001b[0;34m,\u001b[0m\u001b[0mtrain_weights\u001b[0m\u001b[0;34m)\u001b[0m\u001b[0;34m\u001b[0m\u001b[0m\n\u001b[0;32m----> 2\u001b[0;31m \u001b[0mdata_jet_num_0\u001b[0m \u001b[0;34m=\u001b[0m \u001b[0mnormalize_data\u001b[0m\u001b[0;34m(\u001b[0m\u001b[0mdata_jet_num_0\u001b[0m\u001b[0;34m)\u001b[0m\u001b[0;34m\u001b[0m\u001b[0m\n\u001b[0m\u001b[1;32m      3\u001b[0m \u001b[0;34m\u001b[0m\u001b[0m\n\u001b[1;32m      4\u001b[0m \u001b[0;34m\u001b[0m\u001b[0m\n\u001b[1;32m      5\u001b[0m \u001b[0mdata_jet_num_1\u001b[0m\u001b[0;34m,\u001b[0m \u001b[0mdata_jet_num_1_labels\u001b[0m\u001b[0;34m,\u001b[0m \u001b[0mdata_jet_num_1_weights\u001b[0m \u001b[0;34m=\u001b[0m \u001b[0mprocess_data_jet_num\u001b[0m\u001b[0;34m(\u001b[0m\u001b[0mtrain_data\u001b[0m\u001b[0;34m,\u001b[0m\u001b[0mtrain_labels\u001b[0m\u001b[0;34m,\u001b[0m\u001b[0;36m1\u001b[0m\u001b[0;34m,\u001b[0m\u001b[0mtrain_weights\u001b[0m\u001b[0;34m)\u001b[0m\u001b[0;34m\u001b[0m\u001b[0m\n",
      "\u001b[0;32m<ipython-input-215-fee93b1c3236>\u001b[0m in \u001b[0;36mnormalize_data\u001b[0;34m(data)\u001b[0m\n\u001b[1;32m      1\u001b[0m \u001b[0;32mdef\u001b[0m \u001b[0mnormalize_data\u001b[0m\u001b[0;34m(\u001b[0m\u001b[0mdata\u001b[0m\u001b[0;34m)\u001b[0m\u001b[0;34m:\u001b[0m\u001b[0;34m\u001b[0m\u001b[0m\n\u001b[1;32m      2\u001b[0m     \u001b[0mscaler\u001b[0m \u001b[0;34m=\u001b[0m \u001b[0mStandardScaler\u001b[0m\u001b[0;34m(\u001b[0m\u001b[0;34m)\u001b[0m\u001b[0;34m\u001b[0m\u001b[0m\n\u001b[0;32m----> 3\u001b[0;31m     \u001b[0mscaler\u001b[0m\u001b[0;34m.\u001b[0m\u001b[0mfit\u001b[0m\u001b[0;34m(\u001b[0m\u001b[0mdata\u001b[0m\u001b[0;34m)\u001b[0m\u001b[0;34m\u001b[0m\u001b[0m\n\u001b[0m\u001b[1;32m      4\u001b[0m     \u001b[0mdata\u001b[0m \u001b[0;34m=\u001b[0m \u001b[0mscaler\u001b[0m\u001b[0;34m.\u001b[0m\u001b[0mtransform\u001b[0m\u001b[0;34m(\u001b[0m\u001b[0mdata\u001b[0m\u001b[0;34m)\u001b[0m\u001b[0;34m\u001b[0m\u001b[0m\n\u001b[1;32m      5\u001b[0m     \u001b[0;32mreturn\u001b[0m \u001b[0mdata\u001b[0m\u001b[0;34m\u001b[0m\u001b[0m\n",
      "\u001b[0;32m/anaconda2/lib/python2.7/site-packages/sklearn/preprocessing/data.pyc\u001b[0m in \u001b[0;36mfit\u001b[0;34m(self, X, y)\u001b[0m\n\u001b[1;32m    588\u001b[0m         \u001b[0;31m# Reset internal state before fitting\u001b[0m\u001b[0;34m\u001b[0m\u001b[0;34m\u001b[0m\u001b[0m\n\u001b[1;32m    589\u001b[0m         \u001b[0mself\u001b[0m\u001b[0;34m.\u001b[0m\u001b[0m_reset\u001b[0m\u001b[0;34m(\u001b[0m\u001b[0;34m)\u001b[0m\u001b[0;34m\u001b[0m\u001b[0m\n\u001b[0;32m--> 590\u001b[0;31m         \u001b[0;32mreturn\u001b[0m \u001b[0mself\u001b[0m\u001b[0;34m.\u001b[0m\u001b[0mpartial_fit\u001b[0m\u001b[0;34m(\u001b[0m\u001b[0mX\u001b[0m\u001b[0;34m,\u001b[0m \u001b[0my\u001b[0m\u001b[0;34m)\u001b[0m\u001b[0;34m\u001b[0m\u001b[0m\n\u001b[0m\u001b[1;32m    591\u001b[0m \u001b[0;34m\u001b[0m\u001b[0m\n\u001b[1;32m    592\u001b[0m     \u001b[0;32mdef\u001b[0m \u001b[0mpartial_fit\u001b[0m\u001b[0;34m(\u001b[0m\u001b[0mself\u001b[0m\u001b[0;34m,\u001b[0m \u001b[0mX\u001b[0m\u001b[0;34m,\u001b[0m \u001b[0my\u001b[0m\u001b[0;34m=\u001b[0m\u001b[0mNone\u001b[0m\u001b[0;34m)\u001b[0m\u001b[0;34m:\u001b[0m\u001b[0;34m\u001b[0m\u001b[0m\n",
      "\u001b[0;32m/anaconda2/lib/python2.7/site-packages/sklearn/preprocessing/data.pyc\u001b[0m in \u001b[0;36mpartial_fit\u001b[0;34m(self, X, y)\u001b[0m\n\u001b[1;32m    610\u001b[0m         \"\"\"\n\u001b[1;32m    611\u001b[0m         X = check_array(X, accept_sparse=('csr', 'csc'), copy=self.copy,\n\u001b[0;32m--> 612\u001b[0;31m                         warn_on_dtype=True, estimator=self, dtype=FLOAT_DTYPES)\n\u001b[0m\u001b[1;32m    613\u001b[0m \u001b[0;34m\u001b[0m\u001b[0m\n\u001b[1;32m    614\u001b[0m         \u001b[0;31m# Even in the case of `with_mean=False`, we update the mean anyway\u001b[0m\u001b[0;34m\u001b[0m\u001b[0;34m\u001b[0m\u001b[0m\n",
      "\u001b[0;32m/anaconda2/lib/python2.7/site-packages/sklearn/utils/validation.pyc\u001b[0m in \u001b[0;36mcheck_array\u001b[0;34m(array, accept_sparse, dtype, order, copy, force_all_finite, ensure_2d, allow_nd, ensure_min_samples, ensure_min_features, warn_on_dtype, estimator)\u001b[0m\n\u001b[1;32m    460\u001b[0m                              \u001b[0;34m\" minimum of %d is required%s.\"\u001b[0m\u001b[0;34m\u001b[0m\u001b[0m\n\u001b[1;32m    461\u001b[0m                              % (n_samples, shape_repr, ensure_min_samples,\n\u001b[0;32m--> 462\u001b[0;31m                                 context))\n\u001b[0m\u001b[1;32m    463\u001b[0m \u001b[0;34m\u001b[0m\u001b[0m\n\u001b[1;32m    464\u001b[0m     \u001b[0;32mif\u001b[0m \u001b[0mensure_min_features\u001b[0m \u001b[0;34m>\u001b[0m \u001b[0;36m0\u001b[0m \u001b[0;32mand\u001b[0m \u001b[0marray\u001b[0m\u001b[0;34m.\u001b[0m\u001b[0mndim\u001b[0m \u001b[0;34m==\u001b[0m \u001b[0;36m2\u001b[0m\u001b[0;34m:\u001b[0m\u001b[0;34m\u001b[0m\u001b[0m\n",
      "\u001b[0;31mValueError\u001b[0m: Found array with 0 sample(s) (shape=(0, 19)) while a minimum of 1 is required by StandardScaler."
     ]
    }
   ],
   "source": [
    "data_jet_num_0, data_jet_num_0_labels, data_jet_num_0_weights = process_data_jet_num(train_data,train_labels,0,train_weights)\n",
    "data_jet_num_0 = normalize_data(data_jet_num_0)\n",
    "\n",
    "\n",
    "data_jet_num_1, data_jet_num_1_labels, data_jet_num_1_weights = process_data_jet_num(train_data,train_labels,1,train_weights)\n",
    "data_jet_num_1 = normalize_data(data_jet_num_1)\n",
    "\n",
    "data_jet_num_2_3, data_jet_num_2_3_labels, data_jet_num_2_3_weights = process_data_jet_num(train_data,train_labels,2,train_weights)\n",
    "data_jet_num_2_3 = normalize_data(data_jet_num_2_3)\n",
    "print(data_jet_num_2_3.shape)\n",
    "print(data_jet_num_2_3_labels.shape)\n",
    "print(data_jet_num_2_3_weights.shape)\n",
    "\n",
    "data_jet_num_0_test, data_jet_num_0_test_labels, data_jet_num_0_test_weights = process_data_jet_num(test_data,test_labels,0,test_weights)\n",
    "data_jet_num_0_test = normalize_data(data_jet_num_0_test)\n",
    "\n",
    "data_jet_num_1_test, data_jet_num_1_test_labels, data_jet_num_1_test_weights = process_data_jet_num(test_data,test_labels,1,test_weights)\n",
    "data_jet_num_1_test = normalize_data(data_jet_num_1_test)\n",
    "\n",
    "data_jet_num_2_3_test, data_jet_num_2_3_test_labels, data_jet_num_2_3_test_weights = process_data_jet_num(test_data,test_labels,2,test_weights)\n",
    "data_jet_num_2_3_test = normalize_data(data_jet_num_2_3_test)\n",
    "\n",
    "run_lr(data_jet_num_0,data_jet_num_0_labels,data_jet_num_0_test,data_jet_num_0_test_labels,data_jet_num_0_test_weights)\n",
    "run_lr(data_jet_num_1,data_jet_num_1_labels,data_jet_num_1_test,data_jet_num_1_test_labels,data_jet_num_1_test_weights)\n",
    "# run_lr(data_jet_num_2_3,data_jet_num_2_3_labels,data_jet_num_2_3_test,data_jet_num_2_3_test_labels,data_jet_num_2_3_test_weights)"
   ]
  },
  {
   "cell_type": "code",
   "execution_count": null,
   "metadata": {},
   "outputs": [],
   "source": []
  }
 ],
 "metadata": {
  "kernelspec": {
   "display_name": "Python 2",
   "language": "python",
   "name": "python2"
  },
  "language_info": {
   "codemirror_mode": {
    "name": "ipython",
    "version": 2
   },
   "file_extension": ".py",
   "mimetype": "text/x-python",
   "name": "python",
   "nbconvert_exporter": "python",
   "pygments_lexer": "ipython2",
   "version": "2.7.15"
  }
 },
 "nbformat": 4,
 "nbformat_minor": 2
}
