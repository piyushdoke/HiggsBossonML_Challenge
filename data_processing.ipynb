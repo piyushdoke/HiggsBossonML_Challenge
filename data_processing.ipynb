{
 "cells": [
  {
   "cell_type": "code",
   "execution_count": 1,
   "metadata": {},
   "outputs": [],
   "source": [
    "from sklearn.decomposition import PCA\n",
    "from sklearn.preprocessing import StandardScaler\n",
    "from sklearn import metrics\n",
    "from sklearn.model_selection import train_test_split\n",
    "import pandas as pd\n",
    "from numpy import genfromtxt\n",
    "import numpy as np\n",
    "import csv"
   ]
  },
  {
   "cell_type": "code",
   "execution_count": 2,
   "metadata": {},
   "outputs": [],
   "source": [
    "training_data = genfromtxt('training.csv',dtype = str, delimiter=',')"
   ]
  },
  {
   "cell_type": "code",
   "execution_count": 109,
   "metadata": {},
   "outputs": [
    {
     "name": "stdout",
     "output_type": "stream",
     "text": [
      "[['EventId' 'DER_mass_MMC' 'DER_mass_transverse_met_lep' 'DER_mass_vis'\n",
      "  'DER_pt_h' 'DER_deltaeta_jet_jet' 'DER_mass_jet_jet'\n",
      "  'DER_prodeta_jet_jet' 'DER_deltar_tau_lep' 'DER_pt_tot' 'DER_sum_pt'\n",
      "  'DER_pt_ratio_lep_tau' 'DER_met_phi_centrality' 'DER_lep_eta_centrality'\n",
      "  'PRI_tau_pt' 'PRI_tau_eta' 'PRI_tau_phi' 'PRI_lep_pt' 'PRI_lep_eta'\n",
      "  'PRI_lep_phi' 'PRI_met' 'PRI_met_phi' 'PRI_met_sumet' 'PRI_jet_num'\n",
      "  'PRI_jet_leading_pt' 'PRI_jet_leading_eta' 'PRI_jet_leading_phi'\n",
      "  'PRI_jet_subleading_pt' 'PRI_jet_subleading_eta' 'PRI_jet_subleading_phi'\n",
      "  'PRI_jet_all_pt' 'Weight' 'Label']\n",
      " ['100000' '138.47' '51.655' '97.827' '27.98' '0.91' '124.711' '2.666'\n",
      "  '3.064' '41.928' '197.76' '1.582' '1.396' '0.2' '32.638' '1.017' '0.381'\n",
      "  '51.626' '2.273' '-2.414' '16.824' '-0.277' '258.733' '2' '67.435' '2.15'\n",
      "  '0.444' '46.062' '1.24' '-2.475' '113.497' '0.00265331133733' 's']]\n"
     ]
    }
   ],
   "source": [
    "print(training_data[:2])"
   ]
  },
  {
   "cell_type": "code",
   "execution_count": 123,
   "metadata": {},
   "outputs": [],
   "source": [
    "train_labels = training_data[1:,-1]\n",
    "train_labels = (train_labels == 's').astype(np.int32)\n",
    "train_data = training_data[1:,1:31]\n",
    "train_data = train_data.astype(np.float32)"
   ]
  },
  {
   "cell_type": "code",
   "execution_count": 124,
   "metadata": {},
   "outputs": [],
   "source": [
    "a, b = np.where(train_data == -999)\n",
    "new_r, new_c = np.where(train_data != -999)\n",
    "mean_list = np.mean(train_data[new_r][new_c], axis = 0)"
   ]
  },
  {
   "cell_type": "code",
   "execution_count": 125,
   "metadata": {},
   "outputs": [
    {
     "name": "stdout",
     "output_type": "stream",
     "text": [
      "(array([], dtype=int64), array([], dtype=int64))\n"
     ]
    }
   ],
   "source": [
    "for i in range(len(a)):\n",
    "    train_data[a[i]][train_data[a[i]] == -999] = mean_list[b[i]]\n",
    "x, y = np.where(train_data == -999)\n",
    "print(x,y)"
   ]
  },
  {
   "cell_type": "code",
   "execution_count": 129,
   "metadata": {},
   "outputs": [
    {
     "name": "stdout",
     "output_type": "stream",
     "text": [
      "Counter({0.0: 99913, 1.0: 77544, 2.0: 50379, 3.0: 22164})\n",
      "Counter({0: 74421, 1: 25492})\n",
      "Counter({0: 49834, 1: 27710})\n",
      "Counter({1: 25734, 0: 24645})\n",
      "Counter({0: 15433, 1: 6731})\n",
      "Counter({0: 40078, 1: 32465})\n",
      "(99913, 77544, 72543)\n"
     ]
    }
   ],
   "source": [
    "print(Counter(train_data[:,22]))\n",
    "data_jet_num_0 = train_data[train_data[:,22] == 0]\n",
    "data_jet_num_0_labels = train_labels[np.where(train_data[:,22] == 0)]\n",
    "print(Counter(data_jet_num_0_labels))\n",
    "data_jet_num_1 = train_data[train_data[:,22] == 1]\n",
    "data_jet_num_1_labels = train_labels[np.where(train_data[:,22] == 1)]\n",
    "print(Counter(data_jet_num_1_labels))\n",
    "data_jet_num_2 = train_data[train_data[:,22] == 2]\n",
    "data_jet_num_2_labels = train_labels[np.where(train_data[:,22] == 2)]\n",
    "print(Counter(data_jet_num_2_labels))\n",
    "data_jet_num_3 = train_data[train_data[:,22] == 3]\n",
    "data_jet_num_3_labels = train_labels[np.where(train_data[:,22] == 3)]\n",
    "print(Counter(data_jet_num_3_labels))\n",
    "data_jet_num_2_3 = np.concatenate((data_jet_num_2,data_jet_num_3))\n",
    "data_jet_num_2_3_labels = np.concatenate((data_jet_num_2_labels,data_jet_num_3_labels))\n",
    "print(Counter(data_jet_num_2_3_labels))\n",
    "print(len(data_jet_num_0),len(data_jet_num_1),len(data_jet_num_2_3))"
   ]
  },
  {
   "cell_type": "code",
   "execution_count": 120,
   "metadata": {},
   "outputs": [
    {
     "name": "stdout",
     "output_type": "stream",
     "text": [
      "(99913, 29)\n"
     ]
    }
   ],
   "source": [
    "data_jet_num_0 = np.delete(data_jet_num_0,[22],1)\n",
    "print(data_jet_num_0.shape)\n",
    "data_jet_num_1 = np.delete(data_jet_num_1,[22],1)\n",
    "data_jet_num_2_3 = np.delete(data_jet_num_2_3,[22],1)"
   ]
  },
  {
   "cell_type": "code",
   "execution_count": 121,
   "metadata": {
    "scrolled": false
   },
   "outputs": [
    {
     "name": "stdout",
     "output_type": "stream",
     "text": [
      "[[  2.74501909e-02   8.73614326e-02  -3.86257619e-02  -9.54644289e-03\n",
      "    3.13440144e-01   3.13440174e-01   3.13440174e-01  -2.13815249e-03\n",
      "   -9.54646524e-03  -1.19898422e-02   2.03224903e-04  -1.26303174e-03\n",
      "    3.13440174e-01  -8.05597100e-03  -4.82847099e-05   1.11377944e-04\n",
      "   -3.93389305e-03  -8.69047071e-05   9.72700855e-06   6.72260448e-02\n",
      "   -6.68850407e-05  -5.23812957e-02   3.13440204e-01   3.13440204e-01\n",
      "    3.13440174e-01   3.13440174e-01   3.13440174e-01   3.13440174e-01\n",
      "    0.00000000e+00]\n",
      " [  5.56814075e-01   1.40702248e-01   4.74584371e-01   5.91806173e-02\n",
      "    6.62114564e-03   6.62113819e-03   6.62113819e-03   3.41269351e-03\n",
      "    5.91805913e-02   2.83239633e-01   3.78612283e-04   1.08266680e-03\n",
      "    6.62116287e-03   1.38233587e-01   7.89787809e-05   4.15578761e-05\n",
      "    1.45006031e-01   9.49531750e-05  -1.34107162e-04   8.05337727e-02\n",
      "    9.80355071e-06   5.57341695e-01   6.62120525e-03   6.62120525e-03\n",
      "    6.62116287e-03   6.62116287e-03   6.62116287e-03   6.62116287e-03\n",
      "   -0.00000000e+00]\n",
      " [ -4.68867362e-01  -5.19721545e-02  -3.35285604e-01   1.49806082e-01\n",
      "    1.38380388e-02   1.38380574e-02   1.38380537e-02  -5.38070174e-03\n",
      "    1.49806112e-01  -6.89553469e-02  -1.60453492e-03   3.54824518e-03\n",
      "    1.38380099e-02  -5.28218457e-03  -2.20963935e-04   1.92145613e-04\n",
      "   -6.36731610e-02   1.29179884e-04  -1.34313494e-04   5.37433624e-02\n",
      "    1.45383470e-04   7.78766811e-01   1.38380025e-02   1.38380025e-02\n",
      "    1.38380136e-02   1.38380136e-02   1.38380136e-02   1.38380136e-02\n",
      "    0.00000000e+00]\n",
      " [ -1.42838046e-01   8.55782270e-01  -1.24295533e-01   6.99336380e-02\n",
      "   -3.20271701e-02  -3.20274234e-02  -3.20273638e-02  -4.24976135e-03\n",
      "    6.99336231e-02   9.24514309e-02   1.30366441e-02  -4.40354412e-03\n",
      "   -3.20275277e-02  -1.59393877e-01  -5.15006366e-04  -3.49403650e-04\n",
      "    2.51845121e-01  -4.23391466e-04   4.90333478e-05   3.23283762e-01\n",
      "   -8.37881351e-04  -9.82098058e-02  -3.20275016e-02  -3.20275016e-02\n",
      "   -3.20274383e-02  -3.20274383e-02  -3.20274383e-02  -3.20274383e-02\n",
      "   -0.00000000e+00]\n",
      " [  4.28453863e-01  -8.00688490e-02  -1.87308967e-01   4.90328014e-01\n",
      "   -9.24869534e-03  -9.24877357e-03  -9.24876612e-03   3.43544059e-04\n",
      "    4.90328193e-01  -3.96863371e-01   1.64956658e-03   1.22961756e-02\n",
      "   -9.24868882e-03  -2.23906428e-01   5.56445390e-04   6.39423961e-05\n",
      "   -1.72956809e-01   5.80810243e-04  -3.76882264e-04   2.21234858e-01\n",
      "    2.71144119e-04  -8.11463594e-02  -9.24864691e-03  -9.24864691e-03\n",
      "   -9.24869254e-03  -9.24869254e-03  -9.24869254e-03  -9.24869254e-03\n",
      "    0.00000000e+00]\n",
      " [ -4.39525962e-01  -1.79751292e-01   4.13455427e-01   3.92045230e-01\n",
      "    9.66581516e-03   9.66590270e-03   9.66594741e-03   2.23786966e-03\n",
      "    3.92045498e-01   3.27121496e-01  -7.09394785e-03   4.11911355e-03\n",
      "    9.66600794e-03   2.85690099e-01  -8.96248748e-05  -9.15992714e-04\n",
      "    4.14314456e-02   2.37796397e-04   2.73827376e-04   2.25349188e-01\n",
      "    4.81333933e-04  -2.32439190e-01   9.66593809e-03   9.66593809e-03\n",
      "    9.66597069e-03   9.66597069e-03   9.66597069e-03   9.66597069e-03\n",
      "   -0.00000000e+00]\n",
      " [  2.67578244e-01  -1.38957083e-01  -6.53515875e-01   1.76466592e-02\n",
      "   -8.53865221e-03  -8.53856280e-03  -8.53865966e-03  -1.54926088e-02\n",
      "    1.76466573e-02   5.10810256e-01  -7.76052242e-03   2.50245747e-03\n",
      "   -8.53869226e-03   4.14144248e-01  -7.54173729e-04  -4.16316558e-04\n",
      "    9.66658071e-02  -7.03314363e-05   4.41123120e-04   1.74013659e-01\n",
      "    6.45109336e-04  -9.10084695e-02  -8.53863265e-03  -8.53863265e-03\n",
      "   -8.53867736e-03  -8.53867736e-03  -8.53867736e-03  -8.53867736e-03\n",
      "   -0.00000000e+00]]\n",
      "[[  7.48790205e-02  -4.36624140e-02   4.45201248e-02   3.43436897e-01\n",
      "   -7.69424438e-02  -7.69424289e-02  -7.69424289e-02  -2.05460447e-03\n",
      "    1.92254558e-02   4.89601910e-01   3.64166131e-04   2.50543258e-03\n",
      "   -7.69424289e-02   8.69621411e-02  -5.85064081e-05   3.30332914e-05\n",
      "    7.16354772e-02  -5.79434018e-05  -5.52779493e-05   1.10337459e-01\n",
      "    4.07825537e-05   5.89091361e-01   3.31004381e-01   2.75139028e-05\n",
      "   -1.01583346e-05  -7.69424289e-02  -7.69424289e-02  -7.69424289e-02\n",
      "    3.31004381e-01]\n",
      " [  8.32854733e-02   1.69590682e-01   3.86012606e-02   5.55694215e-02\n",
      "    3.60249668e-01   3.60249430e-01   3.60249430e-01  -9.31519666e-04\n",
      "    1.67142265e-02   1.11010544e-01   6.12146512e-04  -3.15141096e-03\n",
      "    3.60249460e-01   1.82468146e-02   9.82970814e-05   8.67081471e-05\n",
      "    2.98592411e-02   1.99766582e-05  -7.06197316e-05   1.39646187e-01\n",
      "   -1.19463359e-04   1.00070827e-01   6.29044920e-02  -3.79800667e-06\n",
      "    6.83000108e-05   3.60249460e-01   3.60249460e-01   3.60249460e-01\n",
      "    6.29045069e-02]\n",
      " [  7.61961997e-01   1.25214800e-01   5.65397918e-01  -1.32492676e-01\n",
      "   -3.43969576e-02  -3.43969464e-02  -3.43969464e-02   6.98307669e-03\n",
      "    6.13332435e-04   4.86690253e-02   1.09892781e-03  -1.43452990e-03\n",
      "   -3.43969613e-02   7.25308135e-02  -8.43988455e-05  -1.61337884e-04\n",
      "    1.10316277e-01   5.60115150e-05  -9.39308738e-05  -4.74588983e-02\n",
      "   -3.01616055e-05   1.06064081e-02  -1.34178117e-01  -2.80052463e-05\n",
      "    2.75869010e-04  -3.43969613e-02  -3.43969613e-02  -3.43969613e-02\n",
      "   -1.34178117e-01]\n",
      " [ -1.30137235e-01   6.78265765e-02  -3.27701271e-02  -2.65202016e-01\n",
      "    8.72409437e-03   8.72422103e-03   8.72399006e-03   3.61729908e-04\n",
      "    1.30919605e-01  -2.99805880e-01  -1.68955664e-03  -3.61099094e-03\n",
      "    8.72406363e-03   2.50761509e-02   7.45569560e-05   1.39627911e-04\n",
      "   -3.24378833e-02   1.49657484e-04  -2.19830341e-04  -1.18881077e-01\n",
      "   -3.96847056e-04   7.82703042e-01  -2.92444170e-01   6.09084891e-05\n",
      "    1.77461741e-04   8.72406363e-03   8.72406363e-03   8.72406363e-03\n",
      "   -2.92444199e-01]\n",
      " [ -2.57688850e-01   8.41960251e-01   1.56983212e-02  -1.00032456e-01\n",
      "   -5.63509278e-02  -5.63508235e-02  -5.63507341e-02  -3.39159137e-03\n",
      "    2.12468833e-04   2.28092790e-01   1.27204759e-02  -1.00648291e-02\n",
      "   -5.63510396e-02  -7.44567662e-02   6.06029698e-06   2.59613473e-04\n",
      "    3.51281852e-01   2.30155769e-04   1.09715133e-04   3.26025300e-02\n",
      "   -6.52246003e-04  -7.18518198e-02  -4.87322696e-02   3.78035802e-05\n",
      "    4.68130675e-05  -5.63510396e-02  -5.63510396e-02  -5.63510396e-02\n",
      "   -4.87321913e-02]\n",
      " [ -3.13985556e-01  -2.73939341e-01   2.45384067e-01  -2.03192726e-01\n",
      "    4.53068577e-02   4.53067347e-02   4.53067720e-02  -2.54968111e-03\n",
      "   -8.99587795e-02   4.40317512e-01  -1.11729640e-03  -4.62652976e-03\n",
      "    4.53069247e-02   3.23353261e-01  -2.21884053e-04   1.10909561e-04\n",
      "    2.06897348e-01  -2.08666446e-04   4.00008925e-04  -5.83775043e-01\n",
      "    2.78554711e-04  -6.45474195e-02  -8.99331868e-02   5.34649917e-05\n",
      "   -2.38172754e-04   4.53069247e-02   4.53069247e-02   4.53069247e-02\n",
      "   -8.99331346e-02]\n",
      " [  6.89009428e-02   1.96898624e-01  -2.12463886e-01  -1.45099580e-01\n",
      "   -2.21884344e-02  -2.21884195e-02  -2.21883971e-02  -4.93605854e-03\n",
      "   -2.73916069e-02   1.73970088e-01  -3.12362947e-02  -3.76666710e-03\n",
      "   -2.21885014e-02   7.41631627e-01  -1.72234068e-05   8.26171090e-05\n",
      "   -4.88098353e-01  -2.78065010e-04   8.79668049e-04   2.24210337e-01\n",
      "   -4.02238162e-04  -6.01877086e-02  -7.95630738e-02  -6.64509949e-04\n",
      "    6.53124298e-04  -2.21885014e-02  -2.21885014e-02  -2.21885014e-02\n",
      "   -7.95631036e-02]\n",
      " [  1.38184160e-01  -4.94275428e-02  -2.18265966e-01  -2.72804946e-01\n",
      "   -9.31385031e-04  -9.31377581e-04  -9.31362680e-04  -9.39001737e-04\n",
      "    8.88850570e-01   1.43326983e-01   2.52501317e-03  -1.67843956e-03\n",
      "   -9.31428338e-04  -2.97629591e-02   3.19261395e-04  -7.23290723e-04\n",
      "    6.80320337e-02   1.60059601e-04   3.11726209e-04  -9.10137370e-02\n",
      "    1.80244620e-04  -9.95616764e-02   1.05057910e-01  -1.61165051e-04\n",
      "   -4.08648375e-05  -9.31420887e-04  -9.31420887e-04  -9.31420887e-04\n",
      "    1.05057940e-01]\n",
      " [ -4.39801544e-01   8.40163603e-03   7.19760060e-01   7.57121816e-02\n",
      "   -8.13263375e-03  -8.13251454e-03  -8.13254435e-03   8.76401644e-03\n",
      "    3.19722891e-01  -1.43757015e-01  -9.89006832e-03  -9.57261585e-03\n",
      "   -8.13255552e-03   5.61140068e-02  -3.41986597e-04   3.90455127e-04\n",
      "   -2.71327615e-01  -3.38524638e-04   2.88080861e-04   2.64670253e-01\n",
      "    1.31848457e-04  -4.54878397e-02   7.14565590e-02   1.65964637e-04\n",
      "    7.75486915e-05  -8.13255552e-03  -8.13255552e-03  -8.13255552e-03\n",
      "    7.14567974e-02]]\n",
      "[[ -2.86228466e-03  -1.21549442e-02  -5.90563146e-03   4.93289791e-02\n",
      "    3.29865608e-03   9.82580066e-01  -6.58020051e-03  -3.21278261e-04\n",
      "    4.07684565e-04   1.04862034e-01  -1.07625929e-04   3.99655866e-04\n",
      "    4.54951980e-04   1.13187619e-02  -1.88029517e-05   7.29147723e-06\n",
      "    4.29792888e-03  -1.18129710e-05  -2.02941847e-05   1.95486750e-02\n",
      "    6.95235531e-06   8.89713615e-02   6.21842034e-02  -2.24253426e-06\n",
      "    6.82589371e-06   2.41961312e-02  -1.51903796e-05  -1.35822920e-05\n",
      "    8.92453268e-02]\n",
      " [  1.59892421e-02  -4.61681077e-04   4.56461590e-03   2.39497989e-01\n",
      "   -2.98945489e-03  -1.82806179e-01   4.42664139e-03  -1.50877447e-03\n",
      "    5.71970195e-02   5.40179193e-01   5.69124823e-04   5.68120275e-04\n",
      "   -3.67964851e-04   5.26534542e-02  -1.98060679e-05   3.81589052e-05\n",
      "    4.95408811e-02  -1.46398625e-05  -5.92453289e-05   1.00184992e-01\n",
      "    2.55280920e-05   5.78416407e-01   2.51029134e-01   1.53814908e-05\n",
      "    4.51926608e-05   9.57798138e-02   6.61077138e-06  -6.42741506e-05\n",
      "    4.37984794e-01]\n",
      " [  7.59866178e-01   1.75048232e-01   5.49852848e-01  -1.45900622e-01\n",
      "    2.82837631e-04   1.52365174e-02  -7.46330363e-04   6.20949920e-03\n",
      "    1.81535129e-02   9.20365378e-02   2.00498709e-03  -2.21774518e-03\n",
      "   -1.17018688e-04   7.58533999e-02   1.33824915e-05  -1.16877105e-04\n",
      "    1.30372465e-01   4.92545005e-05  -1.22029869e-05  -7.20886514e-02\n",
      "   -1.19185599e-04   8.19432959e-02  -1.06313325e-01   1.21173936e-04\n",
      "    8.48606142e-05  -1.58536192e-02   1.01773570e-04  -5.08174480e-06\n",
      "   -1.14189267e-01]\n",
      " [  1.91632360e-01  -5.85484914e-02   2.08681803e-02   7.50422895e-01\n",
      "    8.66673770e-04  -1.04872230e-02  -1.21046358e-03  -3.35382135e-03\n",
      "   -1.38126075e-01  -8.64809100e-03   9.74399969e-04   4.38296515e-03\n",
      "    3.11763200e-04   8.39349180e-02  -8.17273321e-05   1.43985351e-04\n",
      "    8.99189189e-02  -8.75638216e-05   8.32505684e-05   4.21900481e-01\n",
      "    2.12174258e-04  -3.03987414e-01   1.87004313e-01   1.67371370e-04\n",
      "   -6.09977469e-05  -1.52198404e-01   7.78445465e-05  -1.05238305e-05\n",
      "   -1.82502136e-01]\n",
      " [  6.85224533e-02   1.27947971e-01   2.71328576e-02  -1.93998486e-01\n",
      "   -2.67347693e-03  -1.81018654e-02   5.34608588e-03   2.43395893e-03\n",
      "    5.44885397e-02   3.28125924e-01   4.23067575e-03  -1.74635043e-03\n",
      "   -3.34437820e-04  -1.83304474e-01   3.54902113e-05   1.62988308e-05\n",
      "    3.76017727e-02   1.15549992e-04   3.74443422e-04   4.44094576e-02\n",
      "    2.37672604e-04  -7.07624018e-01   2.05171779e-01   1.43759884e-04\n",
      "   -1.80779098e-04   1.58770382e-01  -3.39040071e-07  -6.92174654e-05\n",
      "    4.73828584e-01]\n",
      " [  7.74792656e-02   5.55547416e-01  -1.45177528e-01  -8.19698572e-02\n",
      "   -1.52129319e-03   1.34648709e-02   2.07218970e-03   1.74201897e-03\n",
      "    2.66285658e-01  -2.96215147e-01   3.15489178e-03  -4.73685237e-03\n",
      "   -5.32491307e-04  -3.14269751e-01   2.70001648e-04   1.57140123e-04\n",
      "   -8.67635682e-02   1.00839432e-04  -1.82422271e-04   5.83914399e-01\n",
      "   -3.58917954e-04   1.75092697e-01  -8.92390758e-02  -3.25935369e-04\n",
      "    3.20117979e-04   4.28485721e-02   2.04777432e-04   2.64311821e-04\n",
      "    1.04818366e-01]\n",
      " [ -3.66715401e-01   5.99691391e-01   6.15206733e-02   1.10087454e-01\n",
      "    8.21101654e-04   1.02268336e-02  -1.58266153e-03  -4.72233491e-03\n",
      "    4.63746823e-02   3.08531165e-01   1.36839813e-02  -6.58675004e-03\n",
      "    1.00786412e-04   8.37279484e-02   6.66896221e-06  -5.20870890e-05\n",
      "    4.93835121e-01  -2.15360822e-04   1.61214397e-04  -1.85011789e-01\n",
      "   -3.18703300e-04  -6.03622384e-02  -1.40859261e-01   1.40902675e-05\n",
      "    1.50852182e-04  -1.06335625e-01  -1.14085691e-04   2.27945915e-04\n",
      "   -2.69032061e-01]\n",
      " [ -2.13167630e-02   2.07946688e-01   3.91549468e-02  -2.32114330e-01\n",
      "   -1.72590988e-03  -6.81943074e-03   4.19764081e-03   2.80382298e-03\n",
      "   -5.73519051e-01  -1.71877936e-01   5.66245848e-03  -2.85969605e-03\n",
      "   -1.33288748e-04  -1.72939673e-01   1.74349043e-04  -2.47807242e-04\n",
      "    8.17241892e-02  -3.85100830e-05  -6.51889713e-05  -3.16748545e-02\n",
      "   -2.17837805e-04   1.24960400e-01   6.71489775e-01   3.06262431e-04\n",
      "    8.25073439e-05  -1.78047359e-01  -5.60251792e-05   6.99851022e-04\n",
      "   -8.06627944e-02]]\n"
     ]
    }
   ],
   "source": [
    "pca = PCA(0.99)\n",
    "data_jet_num_0 = pca.fit_transform(data_jet_num_0)\n",
    "print(pca.components_)\n",
    "pca = PCA(0.99)\n",
    "data_jet_num_1 = pca.fit_transform(data_jet_num_1)\n",
    "print(pca.components_)\n",
    "pca = PCA(0.99)\n",
    "data_jet_num_2_3 = pca.fit_transform(data_jet_num_2_3)\n",
    "print(pca.components_)"
   ]
  },
  {
   "cell_type": "code",
   "execution_count": 133,
   "metadata": {},
   "outputs": [
    {
     "name": "stdout",
     "output_type": "stream",
     "text": [
      "0.811890862626\n",
      "0.690567818763\n",
      "0.706028478907\n"
     ]
    }
   ],
   "source": [
    "from sklearn.linear_model import LogisticRegression\n",
    "\n",
    "clf = LogisticRegression(random_state=0, solver='lbfgs')\n",
    "clf = clf.fit(data_jet_num_0[:60000], data_jet_num_0_labels[:60000])\n",
    "print(clf.score(data_jet_num_0[60000:],data_jet_num_0_labels[60000:]))\n",
    "\n",
    "clf = LogisticRegression(random_state=0, solver='lbfgs')\n",
    "clf = clf.fit(data_jet_num_1[:50000], data_jet_num_1_labels[:50000])\n",
    "print(clf.score(data_jet_num_1[50000:],data_jet_num_1_labels[50000:]))\n",
    "\n",
    "clf = LogisticRegression(random_state=0, solver='lbfgs')\n",
    "clf = clf.fit(data_jet_num_2_3[:50000], data_jet_num_2_3_labels[:50000])\n",
    "print(clf.score(data_jet_num_2_3[50000:],data_jet_num_2_3_labels[50000:]))"
   ]
  },
  {
   "cell_type": "code",
   "execution_count": 84,
   "metadata": {},
   "outputs": [],
   "source": [
    "scaler = StandardScaler()\n",
    "scaler.fit(train_data)\n",
    "train_data = scaler.transform(train_data)"
   ]
  },
  {
   "cell_type": "code",
   "execution_count": 8,
   "metadata": {},
   "outputs": [],
   "source": [
    "pca = PCA(.95)\n",
    "pca.fit(train_data)\n",
    "pca.n_components_\n",
    "train_data = pca.transform(train_data)"
   ]
  },
  {
   "cell_type": "code",
   "execution_count": 9,
   "metadata": {},
   "outputs": [
    {
     "name": "stdout",
     "output_type": "stream",
     "text": [
      "15\n"
     ]
    }
   ],
   "source": [
    "print(pca.n_components_)\n",
    "np.savetxt(\"training_data_pca.csv\", train_data, delimiter=\",\")"
   ]
  },
  {
   "cell_type": "code",
   "execution_count": 10,
   "metadata": {},
   "outputs": [],
   "source": [
    "# calculate Pearson's correlation\n",
    "from scipy.stats import pearsonr\n",
    "n = len(train_data[0])\n",
    "dict1={}\n",
    "for i in range(1,n-2):\n",
    "    l= []\n",
    "    for j in range(1,n-2):\n",
    "        corr, _ = pearsonr(train_data[:,i], train_data[:,j])\n",
    "        l.append(corr)\n",
    "    dict1[training_data[0][i]]=l\n",
    "\n",
    "dataframe = pd.DataFrame.from_dict(dict1, orient='index',columns=training_data[0][1:n-2])\n",
    "\n",
    "\n",
    "#check for relations where there is 0.95 correlation\n",
    "dict2={}\n",
    "for key in dict1:\n",
    "    n = len(dict1[key])\n",
    "    for i in range(0,n):\n",
    "        if dict1[key][i]>=0.95 and key!=training_data[0][i+1]:\n",
    "            if key>training_data[0][i+1]:\n",
    "                a = training_data[0][i+1]\n",
    "                b = key\n",
    "            else:\n",
    "                a = key\n",
    "                b = training_data[0][i+1]\n",
    "            dict2[(a,b)]=dict1[key][i]\n",
    "\n",
    "for key in dict2:\n",
    "    print (key,dict2[key])"
   ]
  },
  {
   "cell_type": "code",
   "execution_count": 11,
   "metadata": {},
   "outputs": [],
   "source": [
    "dataCsv = dataframe.to_csv(index=True)\n",
    "f = open('correlation.csv','w+')\n",
    "f.write(dataCsv)"
   ]
  },
  {
   "cell_type": "code",
   "execution_count": 12,
   "metadata": {
    "scrolled": true
   },
   "outputs": [
    {
     "data": {
      "text/plain": [
       "<Figure size 640x480 with 1 Axes>"
      ]
     },
     "metadata": {},
     "output_type": "display_data"
    }
   ],
   "source": [
    "# Plot of DER_mass_MC\n",
    "import random\n",
    "import numpy\n",
    "from matplotlib import pyplot\n",
    "\n",
    "filename='training.csv'\n",
    "data = genfromtxt(filename,dtype = float, delimiter=',');\n",
    "data1 = genfromtxt(filename,dtype = str, delimiter=',');\n",
    "Mass = data[1:,1]\n",
    "Y = data1[1:,32]\n",
    "Y = np.array(Y)\n",
    "\n",
    "Mass = np.array(Mass)\n",
    "Msignal = Mass[Y=='s'];\n",
    "Mbackground = Mass[Y=='b'];\n",
    "bins = numpy.linspace(9, 500, 50)\n",
    "pyplot.hist(Mbackground, bins, alpha=0.5, label='Background')\n",
    "pyplot.hist(Msignal, bins, alpha=0.5, label='Signal')\n",
    "pyplot.legend(loc='upper right')\n",
    "pyplot.xlabel('DER_mass_MMC')\n",
    "pyplot.ylabel('Number of events')\n",
    "pyplot.show()"
   ]
  },
  {
   "cell_type": "code",
   "execution_count": 13,
   "metadata": {},
   "outputs": [
    {
     "data": {
      "text/plain": [
       "0.72692000000000001"
      ]
     },
     "execution_count": 13,
     "metadata": {},
     "output_type": "execute_result"
    }
   ],
   "source": [
    "from sklearn.naive_bayes import GaussianNB\n",
    "from sklearn.metrics import accuracy_score\n",
    "from collections import Counter\n",
    "\n",
    "clf = GaussianNB()\n",
    "clf = clf.fit(train_data[:200000], train_labels[:200000])\n",
    "clf.score(train_data[200000:],train_labels[200000:])"
   ]
  },
  {
   "cell_type": "code",
   "execution_count": 14,
   "metadata": {},
   "outputs": [
    {
     "data": {
      "text/plain": [
       "0.79479999999999995"
      ]
     },
     "execution_count": 14,
     "metadata": {},
     "output_type": "execute_result"
    }
   ],
   "source": [
    "from sklearn.ensemble import GradientBoostingClassifier\n",
    "clf = GradientBoostingClassifier(n_estimators=100, learning_rate=1.0,max_depth=1, random_state=0)\n",
    "clf = clf.fit(train_data[:200000], train_labels[:200000])\n",
    "clf.score(train_data[200000:],train_labels[200000:])"
   ]
  },
  {
   "cell_type": "code",
   "execution_count": 107,
   "metadata": {},
   "outputs": [
    {
     "data": {
      "text/plain": [
       "0.73792000000000002"
      ]
     },
     "execution_count": 107,
     "metadata": {},
     "output_type": "execute_result"
    }
   ],
   "source": [
    "from sklearn.linear_model import LogisticRegression\n",
    "clf = LogisticRegression(random_state=0, solver='lbfgs')\n",
    "clf = clf.fit(train_data[:200000], train_labels[:200000])\n",
    "clf.score(train_data[200000:],train_labels[200000:])"
   ]
  },
  {
   "cell_type": "code",
   "execution_count": 16,
   "metadata": {
    "scrolled": true
   },
   "outputs": [
    {
     "data": {
      "text/plain": [
       "0.74794000000000005"
      ]
     },
     "execution_count": 16,
     "metadata": {},
     "output_type": "execute_result"
    }
   ],
   "source": [
    "from sklearn.tree import DecisionTreeClassifier\n",
    "clf = DecisionTreeClassifier(random_state=0)\n",
    "clf.fit(train_data[:200000], train_labels[:200000])\n",
    "clf.score(train_data[200000:],train_labels[200000:])"
   ]
  },
  {
   "cell_type": "code",
   "execution_count": null,
   "metadata": {},
   "outputs": [],
   "source": [
    "from sklearn.svm import SVC\n",
    "clf = SVC(probability=True)\n",
    "clf.fit(train_data[:200000], train_labels[:200000])\n",
    "clf.score(train_data[200000:], train_labels[200000:])"
   ]
  },
  {
   "cell_type": "code",
   "execution_count": null,
   "metadata": {
    "scrolled": true
   },
   "outputs": [
    {
     "name": "stdout",
     "output_type": "stream",
     "text": [
      "\n",
      "Experimenting for different Regularization parameters\n",
      "('C:', 0.001, ' Svm score for test data:', 0.7679)\n",
      "('C:', 0.01, ' Svm score for test data:', 0.81021)\n",
      "('C:', 0.1, ' Svm score for test data:', 0.82826)\n",
      "('C:', 1, ' Svm score for test data:', 0.83924)\n",
      "('C:', 10, ' Svm score for test data:', 0.85133)\n",
      "\n",
      "Experimenting for different Degrees for polynomial kernel\n",
      "('Degree ', 0, ' Svm score for test data:', 0.65666)\n",
      "('Degree ', 1, ' Svm score for test data:', 0.72278)\n",
      "('Degree ', 2, ' Svm score for test data:', 0.80722)\n",
      "('Degree ', 3, ' Svm score for test data:', 0.80736)\n"
     ]
    }
   ],
   "source": [
    "#experimenting on different parameters of svm\n",
    "from sklearn import svm\n",
    "X,Y = train_data,train_labels\n",
    "W = training_data[1:,31]\n",
    "W = W.astype(np.float64)\n",
    "\n",
    "X1 = X[:100000];\n",
    "W1 = W[:100000];\n",
    "Y1 = Y[:100000];\n",
    "Cs = [0.001, 0.01, 0.1, 1, 10]\n",
    "gammas = [0.001, 0.01, 0.1, 1]\n",
    "kernels = ['linear', 'rbf', 'poly']\n",
    "\n",
    "print(\"\\nExperimenting for different kernels\")\n",
    "for kernel in kernels:\n",
    "    svc= svm.SVC(kernel=kernel).fit(X1,Y1)\n",
    "#     plotSVC('kernel=' + str(kernel))\n",
    "    svmScore = svc.score(X[100000:200000],Y[100000:200000])\n",
    "    print(\"Kernel \", kernel,\" Svm score for test data:\",svmScore)\n",
    "    \n",
    "print(\"\\nExperimenting for different gammas\")\n",
    "for gamma in gammas:\n",
    "    svc = svm.SVC(kernel='rbf', gamma=gamma).fit(X, Y)\n",
    "    svmScore = svc.score(X[100000:200000],Y[100000:200000])\n",
    "#     plotSVC(‘gamma=’ + str(gamma))\n",
    "    print(\"Gamma:\", gamma,\" Svm score for test data:\",svmScore)\n",
    "    \n",
    "print(\"\\nExperimenting for different Regularization parameters\")\n",
    "for c in Cs:\n",
    "    svc = svm.SVC(kernel='rbf', C=c).fit(X, Y)\n",
    "    svmScore = svc.score(X[100000:200000],Y[100000:200000])\n",
    "#     plotSVC(‘C=’ + str(c))\n",
    "    print(\"C:\", c,\" Svm score for test data:\",svmScore)\n",
    "\n",
    "print(\"\\nExperimenting for different Degrees for polynomial kernel\")\n",
    "degrees = [0, 1, 2, 3, 4]\n",
    "for degree in degrees:\n",
    "    svc = svm.SVC(kernel='poly', degree=degree).fit(X, Y)\n",
    "    svmScore = svc.score(X[100000:200000],Y[100000:200000])\n",
    "    print(\"Degree \", degree,\" Svm score for test data:\",svmScore)\n",
    "    "
   ]
  },
  {
   "cell_type": "code",
   "execution_count": 80,
   "metadata": {},
   "outputs": [
    {
     "name": "stdout",
     "output_type": "stream",
     "text": [
      "[[-0.39622191  0.91815478]\n",
      " [ 0.91815478  0.39622191]]\n"
     ]
    }
   ],
   "source": [
    "data = [[0,1],[2,1],[76,2],[311,3],[4,400]]\n",
    "pca = PCA()\n",
    "pca.fit(data)\n",
    "print(pca.components_)"
   ]
  },
  {
   "cell_type": "code",
   "execution_count": null,
   "metadata": {},
   "outputs": [],
   "source": []
  }
 ],
 "metadata": {
  "kernelspec": {
   "display_name": "Python 2",
   "language": "python",
   "name": "python2"
  },
  "language_info": {
   "codemirror_mode": {
    "name": "ipython",
    "version": 2
   },
   "file_extension": ".py",
   "mimetype": "text/x-python",
   "name": "python",
   "nbconvert_exporter": "python",
   "pygments_lexer": "ipython2",
   "version": "2.7.15"
  }
 },
 "nbformat": 4,
 "nbformat_minor": 2
}
